{
 "cells": [
  {
   "cell_type": "markdown",
   "metadata": {
    "colab_type": "text",
    "id": "U5s-rOegD5BO"
   },
   "source": [
    "# spaCy - Removing Stopwords"
   ]
  },
  {
   "cell_type": "code",
   "execution_count": 9,
   "metadata": {
    "colab": {
     "base_uri": "https://localhost:8080/",
     "height": 90
    },
    "colab_type": "code",
    "id": "bDHucv4yCNQ-",
    "outputId": "a85e1a87-8017-4de0-8d92-2aae7a3b122e"
   },
   "outputs": [
    {
     "name": "stdout",
     "output_type": "stream",
     "text": [
      "\n",
      " List of all Stop-Words.....\n",
      "{'may', '’s', 'beyond', 'from', 'again', 'because', 'everything', 'except', 'whereas', 'themselves', 'whence', 'anywhere', 'during', 'less', '’ve', 'see', 'for', 'other', \"'d\", 'after', 'call', 'anything', 'must', 'third', 'whole', 'the', 'hereby', '‘ll', 'latter', 'am', 'can', 'much', 'too', 'seemed', 'at', 'i', 'was', 'when', 'therein', 'they', 'mine', 'before', 'besides', 'his', 'really', 'she', 'that', 'above', 'four', 'although', 'further', 'own', 'herself', 'thereafter', 'around', 'those', 'whereupon', 'five', 'becoming', 'what', 'him', 'keep', 'thereby', \"'ve\", 'elsewhere', 'side', 'whatever', 'would', 'else', 'used', 'something', 'and', 'full', 'anyone', 'it', 'only', 'such', 'them', 'either', 'hereupon', 'top', 'sixty', 'between', 'through', 'due', 'which', 'ca', 'until', 'each', 'next', 'eleven', 'give', 'not', 'rather', 'few', 'out', 'whether', 'who', 'make', 'never', 'if', 'no', 'sometimes', 'will', 'become', 'several', 'every', 'towards', \"'m\", 'made', 'should', '’m', 'anyhow', 'under', 'three', 'front', 'himself', 'least', 'whenever', 'about', 'as', 'whose', 'then', 'someone', 'get', 'with', 'have', 'being', 'up', '‘d', 'ourselves', 'both', 'ever', 'nor', 'once', 'somehow', 'former', 'did', 'whereby', 'many', 'of', 'though', 'ten', \"'re\", 'our', 'doing', 'becomes', 'none', 'itself', 'mostly', 'nothing', 'thus', 'he', 'go', 'everyone', 'fifteen', 'another', 'hence', 'meanwhile', 'say', 'together', 'nowhere', '‘s', 'six', 'beside', 'onto', 'against', 'indeed', 'my', 'per', 'very', 'even', 'on', 'were', '’ll', 'twelve', 'twenty', 'hundred', 'first', 'a', 'over', 'or', 'upon', 'seems', 'whoever', 'always', 're', 'n’t', 'behind', 'here', 'is', 'cannot', 'most', 'one', 'part', 'some', 'me', 'into', 'might', 'by', 'two', 'there', 'done', 'but', 'show', 'these', 'an', 'enough', 'had', 'to', 'where', 'whither', '‘re', 'her', 'seeming', 'alone', 'otherwise', 'please', 'than', 'its', 'eight', 'among', 'same', 'within', 'latterly', \"'s\", 'unless', 'since', 'amount', 'beforehand', 'throughout', 'thru', 'you', 'everywhere', 'been', 'while', '‘m', 'are', 'so', 'moreover', 'put', 'also', 'seem', 'whereafter', 'how', 'does', 'nobody', 'using', 'others', 'their', 'yourself', 'yourselves', 'more', 'just', 'often', 'thereupon', 'sometime', 'toward', 'below', \"'ll\", 'ours', 'wherever', 'take', 'hers', 'formerly', 'almost', 'yours', 'do', 'in', 'various', 'last', 'myself', 'nevertheless', 'neither', 'this', 'off', 'without', 'move', \"n't\", '‘ve', 'us', 'all', 'forty', 'via', 'fifty', 'your', 'n‘t', 'quite', 'bottom', 'became', 'could', 'has', 'now', 'empty', '’re', 'hereafter', 'any', 'down', 'be', 'namely', 'whom', 'name', 'wherein', 'somewhere', 'herein', 'across', 'perhaps', 'regarding', 'thence', 'yet', 'already', 'amongst', 'back', 'anyway', 'noone', 'still', 'well', 'nine', 'therefore', 'why', '’d', 'afterwards', 'serious', 'along', 'however', 'we'}\n"
     ]
    }
   ],
   "source": [
    "import spacy\n",
    "\n",
    "nlp = spacy.load('en_core_web_sm')\n",
    "\n",
    "all_stopwords =nlp.Defaults.stop_words\n",
    "\n",
    "print('\\n List of all Stop-Words.....')\n",
    "print(all_stopwords)\n"
   ]
  },
  {
   "cell_type": "markdown",
   "metadata": {
    "colab_type": "text",
    "id": "6pKL-jVJDyJr"
   },
   "source": [
    "## Remove Stop-words from a Sentence"
   ]
  },
  {
   "cell_type": "code",
   "execution_count": 8,
   "metadata": {
    "colab": {
     "base_uri": "https://localhost:8080/",
     "height": 34
    },
    "colab_type": "code",
    "id": "cZYD477SDtxd",
    "outputId": "c3168cfe-6b6f-45dd-f79d-3f6d9ac60aef"
   },
   "outputs": [
    {
     "name": "stdout",
     "output_type": "stream",
     "text": [
      "['Pele', 'likes', 'play', 'football', ',', 'fond', 'cricket', '.']\n"
     ]
    }
   ],
   "source": [
    "# Remove stop-words from this sentence\n",
    "doc = nlp(\"Pele likes to play football, however he is not too fond of cricket.\")\n",
    "\n",
    "text_tokens = []\n",
    "\n",
    "for token in doc:\n",
    "    text_tokens.append(token.text)\n",
    "\n",
    "# Remove stop-words\n",
    "tokens_without_sw= [word for word in text_tokens if not word in all_stopwords]\n",
    "\n",
    "print(tokens_without_sw)"
   ]
  }
 ],
 "metadata": {
  "colab": {
   "collapsed_sections": [],
   "name": "spaCy_StopWords.ipynb",
   "provenance": []
  },
  "kernelspec": {
   "display_name": "Python 3",
   "language": "python",
   "name": "python3"
  },
  "language_info": {
   "codemirror_mode": {
    "name": "ipython",
    "version": 3
   },
   "file_extension": ".py",
   "mimetype": "text/x-python",
   "name": "python",
   "nbconvert_exporter": "python",
   "pygments_lexer": "ipython3",
   "version": "3.7.6"
  }
 },
 "nbformat": 4,
 "nbformat_minor": 4
}
