{
  "nbformat": 4,
  "nbformat_minor": 0,
  "metadata": {
    "colab": {
      "name": "BoW_Vectors.ipynb",
      "provenance": [],
      "collapsed_sections": []
    },
    "kernelspec": {
      "name": "python3",
      "display_name": "Python 3"
    },
    "accelerator": "GPU"
  },
  "cells": [
    {
      "cell_type": "markdown",
      "metadata": {
        "id": "xnBIi14aqmUL",
        "colab_type": "text"
      },
      "source": [
        "## Import Library"
      ]
    },
    {
      "cell_type": "code",
      "metadata": {
        "id": "lADPD0wGi6Ni",
        "colab_type": "code",
        "colab": {}
      },
      "source": [
        "from sklearn.feature_extraction.text import CountVectorizer"
      ],
      "execution_count": 0,
      "outputs": []
    },
    {
      "cell_type": "markdown",
      "metadata": {
        "id": "yVnUR_u-qpy3",
        "colab_type": "text"
      },
      "source": [
        "## Find BoW Vectors"
      ]
    },
    {
      "cell_type": "code",
      "metadata": {
        "id": "Hx7MU2W9qlRo",
        "colab_type": "code",
        "colab": {}
      },
      "source": [
        "bow = CountVectorizer(max_features=1000, lowercase=True, ngram_range=(1,1), analyzer = \"word\")"
      ],
      "execution_count": 0,
      "outputs": []
    },
    {
      "cell_type": "markdown",
      "metadata": {
        "id": "_AE_B070q4tq",
        "colab_type": "text"
      },
      "source": [
        "## Data"
      ]
    },
    {
      "cell_type": "code",
      "metadata": {
        "id": "i6HQq6qxqwfo",
        "colab_type": "code",
        "colab": {}
      },
      "source": [
        "data=[\"A quick brown fox jumps over the lazy dogs\", \"This is a beautiful day\", 'Day in and day out we jump into the river', 'quick lazy dog lazy quick dog jumps']"
      ],
      "execution_count": 0,
      "outputs": []
    },
    {
      "cell_type": "markdown",
      "metadata": {
        "id": "bDCh2rsIq6Sm",
        "colab_type": "text"
      },
      "source": [
        "## Train the Model on Data"
      ]
    },
    {
      "cell_type": "code",
      "metadata": {
        "id": "P3gTyoomqyVM",
        "colab_type": "code",
        "colab": {}
      },
      "source": [
        "train_bow = bow.fit_transform(data)\n"
      ],
      "execution_count": 0,
      "outputs": []
    },
    {
      "cell_type": "markdown",
      "metadata": {
        "id": "l5ig08nBq9Lf",
        "colab_type": "text"
      },
      "source": [
        "## List of Vocabulary/Words and their indices in the Feature Vector\n",
        "\n",
        "\n",
        "Note that stop words could be removed (i.e the word A).\n",
        "\n",
        "BoW vectors are sparse vectors.\n"
      ]
    },
    {
      "cell_type": "code",
      "metadata": {
        "id": "MI07MD_6jzPU",
        "colab_type": "code",
        "colab": {
          "base_uri": "https://localhost:8080/",
          "height": 357
        },
        "outputId": "0e60068c-7444-47c7-9056-5a8f2dd1a6d1"
      },
      "source": [
        "bow.vocabulary_"
      ],
      "execution_count": 5,
      "outputs": [
        {
          "output_type": "execute_result",
          "data": {
            "text/plain": [
              "{'and': 0,\n",
              " 'beautiful': 1,\n",
              " 'brown': 2,\n",
              " 'day': 3,\n",
              " 'dog': 4,\n",
              " 'dogs': 5,\n",
              " 'fox': 6,\n",
              " 'in': 7,\n",
              " 'into': 8,\n",
              " 'is': 9,\n",
              " 'jump': 10,\n",
              " 'jumps': 11,\n",
              " 'lazy': 12,\n",
              " 'out': 13,\n",
              " 'over': 14,\n",
              " 'quick': 15,\n",
              " 'river': 16,\n",
              " 'the': 17,\n",
              " 'this': 18,\n",
              " 'we': 19}"
            ]
          },
          "metadata": {
            "tags": []
          },
          "execution_count": 5
        }
      ]
    },
    {
      "cell_type": "markdown",
      "metadata": {
        "id": "UzrYyB6grStC",
        "colab_type": "text"
      },
      "source": [
        "## BoW Vector for the First String"
      ]
    },
    {
      "cell_type": "code",
      "metadata": {
        "id": "ReU7nDWojcqX",
        "colab_type": "code",
        "colab": {
          "base_uri": "https://localhost:8080/",
          "height": 153
        },
        "outputId": "6a00cc0c-deab-46d6-ee46-e0ed768577df"
      },
      "source": [
        "print(train_bow[0,:])\n"
      ],
      "execution_count": 6,
      "outputs": [
        {
          "output_type": "stream",
          "text": [
            "  (0, 15)\t1\n",
            "  (0, 2)\t1\n",
            "  (0, 6)\t1\n",
            "  (0, 11)\t1\n",
            "  (0, 14)\t1\n",
            "  (0, 17)\t1\n",
            "  (0, 12)\t1\n",
            "  (0, 5)\t1\n"
          ],
          "name": "stdout"
        }
      ]
    },
    {
      "cell_type": "markdown",
      "metadata": {
        "id": "SKhKJwL6rX1Z",
        "colab_type": "text"
      },
      "source": [
        "## BoW Vector for the Second String"
      ]
    },
    {
      "cell_type": "code",
      "metadata": {
        "id": "Rwxda4qAjiJ1",
        "colab_type": "code",
        "colab": {
          "base_uri": "https://localhost:8080/",
          "height": 85
        },
        "outputId": "885bc515-5dd3-4bf1-f1e9-e420b9cea432"
      },
      "source": [
        "print(train_bow[1,:])\n"
      ],
      "execution_count": 7,
      "outputs": [
        {
          "output_type": "stream",
          "text": [
            "  (0, 18)\t1\n",
            "  (0, 9)\t1\n",
            "  (0, 1)\t1\n",
            "  (0, 3)\t1\n"
          ],
          "name": "stdout"
        }
      ]
    },
    {
      "cell_type": "markdown",
      "metadata": {
        "id": "C_N4M7vrrasz",
        "colab_type": "text"
      },
      "source": [
        "## BoW Vector for the Third String"
      ]
    },
    {
      "cell_type": "code",
      "metadata": {
        "id": "S_b0mCxpksko",
        "colab_type": "code",
        "colab": {
          "base_uri": "https://localhost:8080/",
          "height": 170
        },
        "outputId": "e6b9614f-aa19-459c-f529-800538ded255"
      },
      "source": [
        "print(train_bow[2,:])"
      ],
      "execution_count": 8,
      "outputs": [
        {
          "output_type": "stream",
          "text": [
            "  (0, 17)\t1\n",
            "  (0, 3)\t2\n",
            "  (0, 7)\t1\n",
            "  (0, 0)\t1\n",
            "  (0, 13)\t1\n",
            "  (0, 19)\t1\n",
            "  (0, 10)\t1\n",
            "  (0, 8)\t1\n",
            "  (0, 16)\t1\n"
          ],
          "name": "stdout"
        }
      ]
    },
    {
      "cell_type": "markdown",
      "metadata": {
        "id": "oAhaW9N6rqgZ",
        "colab_type": "text"
      },
      "source": [
        "## BoW Vector for the Fourth String"
      ]
    },
    {
      "cell_type": "code",
      "metadata": {
        "id": "EgPSORKGrnSH",
        "colab_type": "code",
        "colab": {
          "base_uri": "https://localhost:8080/",
          "height": 85
        },
        "outputId": "7d13710e-1b2d-4ef8-a2d1-20c1e5aba340"
      },
      "source": [
        "print(train_bow[3,:])"
      ],
      "execution_count": 9,
      "outputs": [
        {
          "output_type": "stream",
          "text": [
            "  (0, 15)\t2\n",
            "  (0, 11)\t1\n",
            "  (0, 12)\t2\n",
            "  (0, 4)\t2\n"
          ],
          "name": "stdout"
        }
      ]
    }
  ]
}