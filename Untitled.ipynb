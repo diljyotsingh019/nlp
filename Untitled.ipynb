{
 "cells": [
  {
   "cell_type": "code",
   "execution_count": 1,
   "metadata": {
    "ExecuteTime": {
     "end_time": "2023-12-20T14:37:59.792758Z",
     "start_time": "2023-12-20T14:37:54.295451Z"
    }
   },
   "outputs": [],
   "source": [
    "import spacy"
   ]
  },
  {
   "cell_type": "code",
   "execution_count": 2,
   "metadata": {
    "ExecuteTime": {
     "end_time": "2023-12-20T14:38:09.975497Z",
     "start_time": "2023-12-20T14:38:09.963530Z"
    }
   },
   "outputs": [
    {
     "data": {
      "text/plain": [
       "'3.2.4'"
      ]
     },
     "execution_count": 2,
     "metadata": {},
     "output_type": "execute_result"
    }
   ],
   "source": [
    "spacy.__version__"
   ]
  },
  {
   "cell_type": "code",
   "execution_count": 3,
   "metadata": {
    "ExecuteTime": {
     "end_time": "2023-12-20T14:38:36.902527Z",
     "start_time": "2023-12-20T14:38:36.347984Z"
    }
   },
   "outputs": [],
   "source": [
    "nlp = spacy.load(\"en_core_web_sm\")"
   ]
  },
  {
   "cell_type": "code",
   "execution_count": 4,
   "metadata": {
    "ExecuteTime": {
     "end_time": "2023-12-20T14:39:05.587015Z",
     "start_time": "2023-12-20T14:39:05.540217Z"
    }
   },
   "outputs": [],
   "source": [
    "doc = nlp('Tesla is looking at buying U.S. startup for $6 million')\n",
    "doc2 = nlp(\"आपको बता दें कि देव नाम का अर्थ भगवान, राजा, प्रकाश, स्वर्गीय, बादल होता है। देव नाम का खास महत्व है क्योंकि इसका मतलब भगवान, राजा, प्रकाश, स्वर्गीय\")"
   ]
  },
  {
   "cell_type": "code",
   "execution_count": 5,
   "metadata": {
    "ExecuteTime": {
     "end_time": "2023-12-20T14:39:28.997536Z",
     "start_time": "2023-12-20T14:39:28.987564Z"
    }
   },
   "outputs": [
    {
     "data": {
      "text/plain": [
       "['_',\n",
       " '__bytes__',\n",
       " '__class__',\n",
       " '__delattr__',\n",
       " '__dir__',\n",
       " '__doc__',\n",
       " '__eq__',\n",
       " '__format__',\n",
       " '__ge__',\n",
       " '__getattribute__',\n",
       " '__getitem__',\n",
       " '__gt__',\n",
       " '__hash__',\n",
       " '__init__',\n",
       " '__init_subclass__',\n",
       " '__iter__',\n",
       " '__le__',\n",
       " '__len__',\n",
       " '__lt__',\n",
       " '__ne__',\n",
       " '__new__',\n",
       " '__pyx_vtable__',\n",
       " '__reduce__',\n",
       " '__reduce_ex__',\n",
       " '__repr__',\n",
       " '__setattr__',\n",
       " '__setstate__',\n",
       " '__sizeof__',\n",
       " '__str__',\n",
       " '__subclasshook__',\n",
       " '__unicode__',\n",
       " '_bulk_merge',\n",
       " '_context',\n",
       " '_get_array_attrs',\n",
       " '_realloc',\n",
       " '_vector',\n",
       " '_vector_norm',\n",
       " 'cats',\n",
       " 'char_span',\n",
       " 'copy',\n",
       " 'count_by',\n",
       " 'doc',\n",
       " 'ents',\n",
       " 'extend_tensor',\n",
       " 'from_array',\n",
       " 'from_bytes',\n",
       " 'from_dict',\n",
       " 'from_disk',\n",
       " 'from_docs',\n",
       " 'get_extension',\n",
       " 'get_lca_matrix',\n",
       " 'has_annotation',\n",
       " 'has_extension',\n",
       " 'has_unknown_spaces',\n",
       " 'has_vector',\n",
       " 'is_nered',\n",
       " 'is_parsed',\n",
       " 'is_sentenced',\n",
       " 'is_tagged',\n",
       " 'lang',\n",
       " 'lang_',\n",
       " 'mem',\n",
       " 'noun_chunks',\n",
       " 'noun_chunks_iterator',\n",
       " 'remove_extension',\n",
       " 'retokenize',\n",
       " 'sentiment',\n",
       " 'sents',\n",
       " 'set_ents',\n",
       " 'set_extension',\n",
       " 'similarity',\n",
       " 'spans',\n",
       " 'tensor',\n",
       " 'text',\n",
       " 'text_with_ws',\n",
       " 'to_array',\n",
       " 'to_bytes',\n",
       " 'to_dict',\n",
       " 'to_disk',\n",
       " 'to_json',\n",
       " 'to_utf8_array',\n",
       " 'user_data',\n",
       " 'user_hooks',\n",
       " 'user_span_hooks',\n",
       " 'user_token_hooks',\n",
       " 'vector',\n",
       " 'vector_norm',\n",
       " 'vocab']"
      ]
     },
     "execution_count": 5,
     "metadata": {},
     "output_type": "execute_result"
    }
   ],
   "source": [
    "dir(doc)"
   ]
  },
  {
   "cell_type": "code",
   "execution_count": 8,
   "metadata": {
    "ExecuteTime": {
     "end_time": "2023-12-20T14:40:05.833562Z",
     "start_time": "2023-12-20T14:40:05.828569Z"
    }
   },
   "outputs": [
    {
     "data": {
      "text/plain": [
       "'Tesla is looking at buying U.S. startup for $6 million'"
      ]
     },
     "execution_count": 8,
     "metadata": {},
     "output_type": "execute_result"
    }
   ],
   "source": [
    "doc.text"
   ]
  },
  {
   "cell_type": "code",
   "execution_count": 14,
   "metadata": {
    "ExecuteTime": {
     "end_time": "2023-12-20T17:01:36.056968Z",
     "start_time": "2023-12-20T17:01:36.035713Z"
    }
   },
   "outputs": [
    {
     "name": "stdout",
     "output_type": "stream",
     "text": [
      "Tesla 96 PROPN 14626626061804382878 en\n",
      "is 87 AUX 14626626061804382878 en\n",
      "looking 100 VERB 14626626061804382878 en\n",
      "at 85 ADP 14626626061804382878 en\n",
      "buying 100 VERB 14626626061804382878 en\n",
      "U.S. 96 PROPN 14626626061804382878 en\n",
      "startup 100 VERB 14626626061804382878 en\n",
      "for 85 ADP 14626626061804382878 en\n",
      "$ 99 SYM 14626626061804382878 en\n",
      "6 93 NUM 14626626061804382878 en\n",
      "million 93 NUM 14626626061804382878 en\n"
     ]
    }
   ],
   "source": [
    "for i in doc:\n",
    "    print(i.text,i.pos, i.pos_, i.lang, i.lang_)"
   ]
  },
  {
   "cell_type": "code",
   "execution_count": 12,
   "metadata": {
    "ExecuteTime": {
     "end_time": "2023-12-20T16:59:40.620809Z",
     "start_time": "2023-12-20T16:59:40.611807Z"
    }
   },
   "outputs": [
    {
     "data": {
      "text/plain": [
       "[Tesla is looking at buying U.S. startup for $6 million]"
      ]
     },
     "execution_count": 12,
     "metadata": {},
     "output_type": "execute_result"
    }
   ],
   "source": [
    "list(doc.sents)"
   ]
  },
  {
   "cell_type": "code",
   "execution_count": 15,
   "metadata": {
    "ExecuteTime": {
     "end_time": "2023-12-20T17:06:45.985677Z",
     "start_time": "2023-12-20T17:06:45.972712Z"
    }
   },
   "outputs": [
    {
     "name": "stdout",
     "output_type": "stream",
     "text": [
      "Tesla PROPN nsubj\n",
      "is AUX aux\n",
      "looking VERB ROOT\n",
      "at ADP prep\n",
      "buying VERB pcomp\n",
      "U.S. PROPN dobj\n",
      "startup VERB dep\n",
      "for ADP prep\n",
      "$ SYM quantmod\n",
      "6 NUM compound\n",
      "million NUM pobj\n"
     ]
    }
   ],
   "source": [
    "for i in doc:\n",
    "    print(i.text, i.pos_, i.dep_)"
   ]
  },
  {
   "cell_type": "code",
   "execution_count": 16,
   "metadata": {
    "ExecuteTime": {
     "end_time": "2023-12-20T17:07:46.352974Z",
     "start_time": "2023-12-20T17:07:46.347968Z"
    }
   },
   "outputs": [
    {
     "data": {
      "text/plain": [
       "[('tok2vec', <spacy.pipeline.tok2vec.Tok2Vec at 0x1f4091d3528>),\n",
       " ('tagger', <spacy.pipeline.tagger.Tagger at 0x1f40921b408>),\n",
       " ('parser', <spacy.pipeline.dep_parser.DependencyParser at 0x1f408efccf8>),\n",
       " ('attribute_ruler',\n",
       "  <spacy.pipeline.attributeruler.AttributeRuler at 0x1f409285f88>),\n",
       " ('lemmatizer', <spacy.lang.en.lemmatizer.EnglishLemmatizer at 0x1f409257108>),\n",
       " ('ner', <spacy.pipeline.ner.EntityRecognizer at 0x1f4092b40b8>)]"
      ]
     },
     "execution_count": 16,
     "metadata": {},
     "output_type": "execute_result"
    }
   ],
   "source": [
    "nlp.pipeline"
   ]
  },
  {
   "cell_type": "code",
   "execution_count": 17,
   "metadata": {
    "ExecuteTime": {
     "end_time": "2023-12-20T17:14:58.406704Z",
     "start_time": "2023-12-20T17:14:58.395734Z"
    }
   },
   "outputs": [
    {
     "data": {
      "text/plain": [
       "['tok2vec', 'tagger', 'parser', 'attribute_ruler', 'lemmatizer', 'ner']"
      ]
     },
     "execution_count": 17,
     "metadata": {},
     "output_type": "execute_result"
    }
   ],
   "source": [
    "nlp.pipe_names"
   ]
  },
  {
   "cell_type": "code",
   "execution_count": 19,
   "metadata": {
    "ExecuteTime": {
     "end_time": "2023-12-20T17:15:30.290467Z",
     "start_time": "2023-12-20T17:15:30.283478Z"
    }
   },
   "outputs": [
    {
     "data": {
      "text/plain": [
       "['HI,', 'my', 'name', 'is', 'diljyot', '!!']"
      ]
     },
     "execution_count": 19,
     "metadata": {},
     "output_type": "execute_result"
    }
   ],
   "source": [
    "x = \"HI, my name is diljyot !!\"\n",
    "x.split()"
   ]
  },
  {
   "cell_type": "code",
   "execution_count": 21,
   "metadata": {
    "ExecuteTime": {
     "end_time": "2023-12-20T17:25:34.354240Z",
     "start_time": "2023-12-20T17:25:34.340278Z"
    }
   },
   "outputs": [
    {
     "data": {
      "text/plain": [
       "'million'"
      ]
     },
     "execution_count": 21,
     "metadata": {},
     "output_type": "execute_result"
    }
   ],
   "source": [
    "i.lemma_"
   ]
  },
  {
   "cell_type": "code",
   "execution_count": 22,
   "metadata": {
    "ExecuteTime": {
     "end_time": "2023-12-20T17:31:42.148725Z",
     "start_time": "2023-12-20T17:31:42.131762Z"
    }
   },
   "outputs": [
    {
     "data": {
      "text/plain": [
       "'pobj'"
      ]
     },
     "execution_count": 22,
     "metadata": {},
     "output_type": "execute_result"
    }
   ],
   "source": [
    "i.dep_"
   ]
  },
  {
   "cell_type": "code",
   "execution_count": 26,
   "metadata": {
    "ExecuteTime": {
     "end_time": "2023-12-20T18:10:34.522860Z",
     "start_time": "2023-12-20T18:10:34.515879Z"
    }
   },
   "outputs": [],
   "source": [
    "def show_ents(doc):\n",
    "    if doc.ents:\n",
    "        for i in doc.ents:\n",
    "            print(i.text, \"-\", i.label_, str(spacy.explain(i.label_)))\n",
    "    else:\n",
    "        print(\"Entity not available\")\n"
   ]
  },
  {
   "cell_type": "code",
   "execution_count": 27,
   "metadata": {
    "ExecuteTime": {
     "end_time": "2023-12-20T18:10:35.329277Z",
     "start_time": "2023-12-20T18:10:35.323292Z"
    }
   },
   "outputs": [
    {
     "name": "stdout",
     "output_type": "stream",
     "text": [
      "U.S. - GPE Countries, cities, states\n",
      "$6 million - MONEY Monetary values, including unit\n"
     ]
    }
   ],
   "source": [
    "show_ents(doc)"
   ]
  },
  {
   "cell_type": "code",
   "execution_count": 40,
   "metadata": {
    "ExecuteTime": {
     "end_time": "2023-12-20T18:49:15.988438Z",
     "start_time": "2023-12-20T18:49:09.331963Z"
    }
   },
   "outputs": [
    {
     "name": "stdout",
     "output_type": "stream",
     "text": [
      "Collecting bs4\n",
      "  Using cached bs4-0.0.1.tar.gz (1.1 kB)\n",
      "  Preparing metadata (setup.py): started\n",
      "  Preparing metadata (setup.py): finished with status 'done'\n",
      "Requirement already satisfied: beautifulsoup4 in c:\\users\\diljyot\\anaconda3\\lib\\site-packages (from bs4) (4.9.1)\n",
      "Requirement already satisfied: soupsieve>1.2 in c:\\users\\diljyot\\anaconda3\\lib\\site-packages (from beautifulsoup4->bs4) (2.0.1)\n",
      "Building wheels for collected packages: bs4\n",
      "  Building wheel for bs4 (setup.py): started\n",
      "  Building wheel for bs4 (setup.py): finished with status 'done'\n",
      "  Created wheel for bs4: filename=bs4-0.0.1-py3-none-any.whl size=1272 sha256=211401c1e55fabb7006d50a81ac948a29a4a13ead6667b33ceb3531d71bd0d74\n",
      "  Stored in directory: c:\\users\\diljyot\\appdata\\local\\pip\\cache\\wheels\\0a\\9e\\ba\\20e5bbc1afef3a491f0b3bb74d508f99403aabe76eda2167ca\n",
      "Successfully built bs4\n",
      "Installing collected packages: bs4\n",
      "Successfully installed bs4-0.0.1\n"
     ]
    },
    {
     "name": "stderr",
     "output_type": "stream",
     "text": [
      "WARNING: There was an error checking the latest version of pip.\n"
     ]
    }
   ],
   "source": [
    "!pip install bs4"
   ]
  },
  {
   "cell_type": "code",
   "execution_count": 41,
   "metadata": {
    "ExecuteTime": {
     "end_time": "2023-12-20T18:49:27.702056Z",
     "start_time": "2023-12-20T18:49:27.692084Z"
    }
   },
   "outputs": [],
   "source": [
    "from bs4 import BeautifulSoup\n",
    "import requests\n",
    "import re"
   ]
  },
  {
   "cell_type": "code",
   "execution_count": 42,
   "metadata": {
    "ExecuteTime": {
     "end_time": "2023-12-20T18:49:28.895195Z",
     "start_time": "2023-12-20T18:49:28.691432Z"
    }
   },
   "outputs": [
    {
     "data": {
      "text/plain": [
       "<Response [200]>"
      ]
     },
     "execution_count": 42,
     "metadata": {},
     "output_type": "execute_result"
    }
   ],
   "source": [
    "url = \"https://www.msn.com/en-in/sports/cricket/kohli-for-42-crore-bumrah-35-crore-ex-india-star-says-starc-cummins-collective-45-cr-deal-makes-no-sense/ar-AA1lMkvb?ocid=msedgntp&pc=DCTS&cvid=aa63253f98c849008a301115e04f8d8f&ei=7\"\n",
    "res = requests.get(url)\n",
    "res"
   ]
  },
  {
   "cell_type": "code",
   "execution_count": 43,
   "metadata": {
    "ExecuteTime": {
     "end_time": "2023-12-20T18:49:29.671270Z",
     "start_time": "2023-12-20T18:49:29.660283Z"
    }
   },
   "outputs": [
    {
     "data": {
      "text/plain": [
       "'<!DOCTYPE html>\\r\\n<html lang=\"en-ca\" dir=\"ltr\" >\\r\\n<head data-info=\"f:msnallexpusers,prg-sp-liveapi,prg-health-cmmnts-cf,prg-tat-psnhc-t,prg-1s-nrt-hc,prg-1s-nrtui-hc,prg-chnnl-trgt,infra-ceto1-t,1s-msnhp-trpsn-c,prg-1sw-saxfnrsglob,prg-1sw-saxfglobalnrs,platagyhz3cf,prg-1sw-saoffu2u5c,prg-1sw-sa-vblv_noct_11,prg-1sw-sagenfv12p,traffic-p1-info-fuzzy-cf,prg-1sw-dummy,traffic-pr1-dft-tskb-cf,1s-wpo-prg1-evflaret,1s-eaop1,traffic-p1-xap2-nogas,prg-1sw-tfgas-rev,prg-1sw-xaptraffic,sh-fash3co,prg-sh-ntpigspsd,prg-shprecrnd,prg-shtrfash3,btrecenca,prg-adspeek,prg-mbupsell-msg1,prg-1sw-finored,1s-winauthservice,prg-1sw-header-event,prg-1sw-kdp1t1,prg-1sw-etbp1t1,prg-1sw-rfcp1,1s-pr2-tpdcd-c,prg-pr2-darkhoverc,1s-fcrypt,prg-com-cmadtbrp1,prg-1sw-cmadsdp1,prg-1sw-cmadtbrp1,prg-1sw-comprep1,prg-1sw-comwpo1,prg-1sw-xapcomsg,artglyrank5cf,prg-wpo-pnpc,1s-wpo-pr1-nrtda,prg-1sw-userintend,1s-wpo-prg2-noclickcd,prg-upsaip-w1-t,prg-upsaip-r-t,prg-vidad-ctrlrid,1s-rpssecautht,prg-1sw-p1wtrclm,traffic-2-rtinc-c,prg-pr2-bnewstag1,prg-pr2-contraiconc,prg-1sw-hlthubxap,1s-wpo-ntp-coftinf,prg-1sw-shipfin,prg-1sw-enableact,prg-1sw-fnccombo,prg-pr2-findef4,prg-1sw-idxfinpd2,prg-pr2-fidnoti,prg-pr2-financedp,prg-pr2-findet4,prg-pr2-premonsd3,pr2-bnfintfrkv3,1s-defaultscn,prg-1sw-pde0,1s-defaultscnw,prg-1sw-tbrcounter,1s-notifmapping,spr-k-gmkts3,prg-spr-t-gmkts3,prg-ad-abd-c,prg-1sw-fagaipc,prg-1sw-srdus,prg-1sw-prefix,prg-1sw-spaipv2,prg-cg-notf2-c,prg-1sw-sdfuu-ship,1s-xapbnze,prg-1sw-p2-sdfuu-ho,prg-ntp-wxncmbn,prg-sh-rmitmlnk-c,prg-pr2-pagefilter,nopinglancecardit,prg-search,prg-cg-ingames-ct,ads-floorexp-t,prg-sh-recopdp,prg-upscache-t,prg-wxmnns,prg-autos-tpc,prg-sh-bd-newbanner,mktautosqor,prg-1sw-rr2fn,prg-1sw-rr2fp,prg-strrtng-w1,prg-p2-wxnsmien,prg-ugc-likechange,prg-1sw-wxmptreplace,prg-1sw-wxhail,prg-1s-wpocfpc,prg-cg-cap-ob-fill2,prg-cg-cap-ob,prg-evt-sgift,prg-cmsnav-dede,prg-cmsnav-enau,prg-cmsnav-enca,prg-cmsnav-engb,prg-cmsnav-eses,prg-cmsnav-frfr,prg-cmsnav-itit,prg-uaskafka-t,prg-wx-fredlgm,prg-1sw-wxovsig,prg-wx-fredlg,prg-sh-bd-sson,prg-sh-sson,prg-cg-in-gm-rwd-ads-c,prg-pr2-sidebar-c1,prg-pr2-pagecontext,prg-pr2-shoreline,prg-sh-bd-newpdp3,prg-sh-bd-bng,ads-drop-plcount,1s-wpo-weekendnrtr,prg-1s-nnrt,prg-1s-ntpweekends,prg-pr2-lazydm-t,prg-lazydm,ads-bicrlg-m,edg-mscr,prg-wx-oldm,prg-sh-bd-newchckot,prg-sh-bd-nwchk,msph-videoc2s,prg-1sw-sap2bknpnut4,prg-pr2-bknpnut4,prg-sh-bd-disbadge,prg-sh-holihp,msph-suspend,prg-1sw-heavysnow,prg-sh-bd-xtracash,prg-sh-bd-disgb,prg-sh-usecshk,prg-sh-usecshkpdp,prg-1sw-guid-c,prg-pcs-hdatainfo,prg-sh-bd-disinsight-c,msph-feedinternal,msph-editpublished,prg-sh-incxpto,revprmres,prg-1sw-uclcm,1s-temp-wid-t,prg-1sw-wxtr75,prg-spr-bd-ft-c,1s-p2-lockprev,prg-cg-ai-heroc,prg-cg-ai-hero,prg-cg-win-edi,1s-wpo-weatherhero,hp-bot-seo,prg-1sw-ryrpru,prg-spr-bd-optidxv2c,prg-1sw-wxlafix;\" data-client-settings=\"{&quot;aid&quot;:&quot;1C8FB335116947DC8F0D610F09E34889&quot;, &quot;fd_muid&quot;:&quot;3749A75F91956BD710E1B4B2903F6ABE&quot;, &quot;static_page&quot;:&quot;false&quot;, &quot;queryparams&quot;:&quot;&quot;, &quot;apptype&quot;:&quot;homePage&quot;, &quot;pagetype&quot;:&quot;hp&quot;, &quot;configRootUrl&quot;:&quot;https://assets.msn.com/config/v1/&quot;, &quot;feedBaseDomain&quot;:&quot;&quot;, &quot;deviceFormFactor&quot;:&quot;desktop&quot;, &quot;pageGenTime&quot;:&quot;2023-12-20T18:49:30Z&quot;, &quot;pcsInfo&quot;:{&quot;v&quot;:&quot;20231211.7_master&quot;, &quot;env&quot;:&quot;prod&quot;}, &quot;locale&quot;:{&quot;language&quot;:&quot;en&quot;, &quot;market&quot;:&quot;ca&quot;, &quot;content&quot;:{&quot;language&quot;:&quot;en&quot;, &quot;market&quot;:&quot;ca&quot;}, &quot;display&quot;:{&quot;language&quot;:&quot;en&quot;, &quot;market&quot;:&quot;ca&quot;}}, &quot;featureFlags&quot;:{}, &quot;market&quot;:{ &quot;requestInput&quot;:{ &quot;language&quot;:&quot;en&quot;,&quot;region&quot;:&quot;us&quot;, &quot;geo_country&quot;:&quot;CA&quot;}, &quot;detection&quot;:{ &quot;type&quot;:&quot;url&quot;,&quot;geo_country&quot;:&quot;&quot;}}, &quot;servicesEndpoints&quot;:{&quot;staticConfig&quot;: {&quot;domain&quot;: &quot;https://assets.msn.com&quot;, &quot;path&quot;: &quot;/config/v3/&quot;, &quot;v&quot;: &quot;&quot;},&quot;crs&quot;: {&quot;domain&quot;: &quot;&quot;, &quot;path&quot;: &quot;/resolver/api/resolve/&quot;, &quot;v&quot;: &quot;v3&quot;},&quot;feedService&quot;: {&quot;domain&quot;: &quot;https://assets.msn.com&quot;, &quot;path&quot;: &quot;&quot;, &quot;v&quot;: &quot;&quot;},&quot;enterpriseFeedService&quot;: {&quot;domain&quot;: &quot;https://ent-api.msn.com/&quot;, &quot;path&quot;: &quot;&quot;, &quot;v&quot;: &quot;&quot;}}, &quot;bundleInfo&quot;:{&quot;v&quot;:&quot;20231215.239&quot;, &quot;alias&quot;:&quot;latest&quot;}, &quot;domain&quot;:&quot;www.msn.com&quot;, &quot;detection&quot;:{&quot;ip&quot;:&quot;70.53.27.249&quot;}, &quot;geo_country&quot;:&quot;CA&quot;, &quot;geo_countryname&quot;:&quot;Canada&quot;, &quot;geo_subdivision&quot;:&quot;Ontario&quot;, &quot;geo_zip&quot;:&quot;N1G 2N9&quot;, &quot;geo_city&quot;:&quot;Guelph&quot;, &quot;geo_lat&quot;:&quot;43.5201&quot;, &quot;geo_long&quot;:&quot;-80.2198&quot;, &quot;geo_citycf&quot;:&quot;0&quot;, &quot;geo_countrycf&quot;:&quot;9&quot;, &quot;requestMuid&quot;:&quot;3749A75F91956BD710E1B4B2903F6ABE&quot;}\" data-diagnostics=\"{&quot;mc&quot;:{&quot;spt&quot;:&quot;en-us%7c%7cca%7cen-ca%7cen-ca%7cen%7c%7cRefA%3dC601CAE675A94BE4B9A66BE443092FDB.RefC%3d2023-12-20T18%3a49%3a30Z&quot;}}\">\\r\\n    <meta charset=\"utf-8\" />\\r\\n    <meta name=\"viewport\" content=\"width=device-width, initial-scale=1.0\" />\\r\\n\\t\\r\\n    <meta http-equiv=\"origin-trial\" content=\"An7X35dNCp8wa7sy5tdW7/BBviJ7F5KeD3vDjGgHaznvlFmAPggK2k3jXzBIVMZ6JOlMPOZp5I1q1w+N2MF2tMEAAABseyJvcmlnaW4iOiJodHRwczovL21zbi5jb206NDQzIiwiaXNTdWJkb21haW4iOnRydWUsImZlYXR1cmUiOiJNc1VzZXJBZ2VudExhdW5jaE5hdlR5cGUiLCJleHBpcnkiOjE3MTk3NzQwMDB9\">\\r\\n\\r\\n    \\r\\n    \\r\\n\\r\\n    <title>MSN</title>\\r\\n\\r\\n\\r\\n    \\r\\n    \\r\\n\\r\\n    \\r\\n\\r\\n    <script type=\"text/javascript\" nonce=\"\">\\r\\n        try {\\r\\n            window._pageTimings = window._pageTimings || {};\\r\\n            window._pageTimings[\"TTJSStart\"] = Math.round(performance.now());\\r\\n        } catch (e) {\\r\\n            console.error(\"Error in adding TTJSStart marker\");\\r\\n        }\\r\\n    </script>\\r\\n\\r\\n         <script nonce=\"\" src=\"https://assets.msn.com/staticsb/statics/latest/oneTrust/1.8/scripttemplates/otSDKStub.js\" data-document-language=\"true\" type=\"text/javascript\" charset=\"UTF-8\" data-domain-script=\"55a804ab-e5c6-4b97-9319-86263d365d28\" id=\"onetrust-sdk\"></script>\\r\\n        <script nonce=\"\">\\r\\n            function getCookieConsentRequired(){return true;}\\r\\n            window._ssrServiceEntryUrl=\"/bundles/v1/homePage/latest/SSR-service-entry.62b614f3cbb5a5da7646.js\";\\r\\n        </script>\\r\\n\\r\\n        <script type=\"text/javascript\" id=\"inlinehead-inline-script\" nonce=\"\">\\r\\n            window[\"_webWorkerBundle\"] = \"/bundles/v1/homePage/latest/web-worker.89ba5fea90915df0bbf8.js\";\\r\\n            window[\"_authCookieName\"] = \"ace\";\\r\\n            !function(){\"use strict\";var e={},t={};function n(o){var i=t[o];if(void 0!==i)return i.exports;var s=t[o]={exports:{}};return e[o](s,s.exports,n),s.exports}let o,i,s,r;function a(){if(i)return i;const e=document.head.getAttribute(\"data-info\");return i=((/f:\\\\s*([^;]+)/i.exec(e)||{})[1]||\"\").toLowerCase(),i}n.g=function(){if(\"object\"==typeof globalThis)return globalThis;try{return this||new Function(\"return this\")()}catch(e){if(\"object\"==typeof window)return window}}(),function(){{const t=n.e,o={};var e;document.head.getAttribute(\"data-info\");n.e=function(i){return t(i).catch((function(t){const s=o.hasOwnProperty(i)?o[i]:2;if(void 0===e&&(e=!1),e&&2===s&&(n.p=n.p.replace(\"/assets.\",\"/assets2.\")),s<1)throw t;return new Promise((function(e){setTimeout((function(){o[i]=s-1,e(n.e(i))}),100)}))}))}}}();function c(e){try{return decodeURIComponent(e)}catch(e){}}function d(e,t){if(!e)return null;if(t)return u(e);if(!s){const e=\"undefined\"!=typeof document&&document.cookie.split(\"; \");s={};const t=e&&e.length;for(let n=0;n<t;n++){const t=e[n].indexOf(\"=\");s[e[n].slice(0,t).toLocaleLowerCase()]=c(e[n].slice(t+1))}}const n=e.toLocaleLowerCase();return s[n]||null}function u(e){var t;const n=null===(t=document.cookie)||void 0===t?void 0:t.match(`\\\\\\\\b${e}=([^;]*)`);return n?c(n[1]):null}function l(e){const t=d(e);return t&&encodeURIComponent(t)||null}var p;!function(e){e[e.Alert=0]=\"Alert\",e[e.NoAlert=1]=\"NoAlert\",e[e.HighImpact=2]=\"HighImpact\",e[e.Critical=3]=\"Critical\"}(p||(p={}));const h=new class{constructor(e=20){this.maxLength=20,this.list=[],this.maxLength=e}push(e){this.list.push(e),this.list.length>this.maxLength&&this.list.shift()}get data(){return this.list}};function g(e,t,n,i=p.Alert){try{const s=function(){if(!o){const e=document.head.getAttribute(\"data-client-settings\");e&&(o=JSON.parse(e))}return o}(),c=a(),u=function(e){if(e){const{pcsInfo:t,pageGenTime:n}=e,o=new Date(n).getTime(),i=[\"prod\",\"prod-ssr\",\"prod-ssrntp\"],s=!t||i.includes(t.env);r=s?\"browser.events.data.msn.com\":\"events-sandbox.data.msn.com\";return{cors:\"true\",\"content-type\":\"application/x-json-stream\",\"client-id\":\"NO_AUTH\",\"client-version\":\"1DS-Web-JS-2.2.2\",apikey:s?\"0ded60c75e44443aa3484c42c1c43fe8-9fc57d3f-fdac-4bcf-b927-75eafe60192e-7279\":\"f8857dedc6f54ca8962cfb713e01e7d7-e9250191-fe0b-446f-95ae-07516262f98c-7028\",\"upload-time\":o,w:\"0\",anoncknm:\"app_anon\"}}return null}(s);let l=\"\";u&&u.apikey&&\"\"!==u.apikey&&(l=function(e){if(e){const t=e.indexOf(\"-\");if(t>0)return e.substring(0,t)}return\"\"}(u.apikey));const g=function(e,t,n,o,i,s,r=p.Alert){var a;if(n){i=i||{};const{apptype:c,audienceMode:u,pagetype:l,pageGenTime:p,bundleInfo:h,deviceFormFactor:g=\"\",fd_muid:m,os:w}=n;i.pageGenTime=p,i.build=h&&h.v,i.appType=c;const b=function(e,t,n){const o=n&&\"phone\"===n.toLowerCase();return{bingHomepage:\"binghomepage\",mmx:\"emmx\",edge:\"spartan\",edgeChromium:t&&\"enterprise\"===t?\"entnews\":\"anaheim\",hybrid:\"spartan\",hub:o?\"prime_mobile\":\"prime\",microsoftNews:\"msnews\",office:\"entnews\",views:o?\"prime_mobile\":\"prime\",windowsShell:\"windowsshell\"}[e]}(c,u,g),v=b||c,y=document.getElementsByTagName(\"html\")[0].getAttribute(\"lang\");let k,S=\"\",A=\"muid\";try{if(\"edgeChromium\"===c&&\"object\"==typeof window&&window.location&&window.location.search){const e=new URLSearchParams(window.location.search);k=e.has(\"startpage\")?\"msedgdhp\":\"msedgntp\",\"enterprise\"===u?k=\"entnewsntp\":\"xbox\"===w&&(k=\"xboxntp\")}window&&window.getCookieConsentRequired&&\"function\"==typeof window.getCookieConsentRequired&&window.getCookieConsentRequired()||(S=d(\"muid\"))}catch(e){}S||(S=n.aid,A=\"aid\");const x={name:\"MS.News.Web.AppError\",time:p,ver:\"4.0\",iKey:`o:${o}`,data:{baseData:{},baseType:\"MS.News.Web.Base\",page:{name:\"default\",product:v,type:f(l),content:{category:\"standaloneError\"},ocid:k},browser:{clientId:S,clientIdType:A},flight:{id:s},request:{activityId:n.aid,requestId:n.aid,afdMuid:m},locale:{mkt:y},extSchema:{id:e,severity:r,pb:i,message:t}}};return S&&\"muid\"===A&&(x.ext=Object.assign(Object.assign({},null==x?void 0:x.ext),{user:Object.assign(Object.assign({},null===(a=null==x?void 0:x.ext)||void 0===a?void 0:a.user),{localId:`t:${S}`})})),x.data.flight.tmpl=\"\",i.isSSRScope&&(x.data.flight.tmpl+=\"ssrscope:1\"),\"object\"==typeof window&&(window.isSSREnabled&&(x.data.flight.tmpl+=\";ssr-enabled:1\"),window.isSSRCompleted&&(x.data.flight.tmpl+=\";ssr-completed:1\")),x?JSON.stringify(x):null}return null}(t,e,s,l,n,c,i);if(u&&g){console.error(g),h.push(g);const e=\"https://\"+r+\"/OneCollector/1.0\"+function(e){return\"?\"+Object.keys(e).map((function(t){return t+\"=\"+encodeURIComponent(e[t])})).join(\"&\")}(u);navigator.sendBeacon(e,g)}}catch(e){}}function f(e){let t=e;switch(e){case\"windowsshellhp\":t=\"dhp\";break;case\"video\":t=\"watch\"}return t}function m(){return\"visible\"===document.visibilityState?Promise.resolve():new Promise((e=>{document.addEventListener(\"visibilitychange\",(()=>{\"visible\"===document.visibilityState&&e()}))}))}function w(e){const t=window&&window.chrome&&window.chrome.ntpSettingsPrivate;t&&t.logLoadingError&&m().then((()=>{t.logLoadingError(e)}))}function b(e){try{if(e)return JSON.parse(e)}catch(e){}return null}function v(){return!(\"undefined\"==typeof window||!window.document||!window.document.createElement||window.isRenderServiceEnv)}const y=\"Authorization\";var k,S;!function(e){e.Presentation=\"presentation\"}(k||(k={})),function(e){e.Unknown=\"Unknown\",e.Portrait=\"Portrait\",e.Landscape=\"Landscape\"}(S||(S={}));var A,x;!function(e){e[e.Undefined=0]=\"Undefined\",e[e.Basic=1]=\"Basic\",e[e.Advanced=2]=\"Advanced\",e[e.Premium=3]=\"Premium\"}(A||(A={})),function(e){e.Init=\"init\",e.Config=\"config\",e.Targeted=\"targeted\",e.Sticky=\"sticky\",e.NoSticky=\"no_sticky\",e.Admin=\"admin\",e.Forced=\"forced\",e.Manual=\"manual\"}(x||(x={}));new Set([\"winp0dash\",\"winp1taskbar\",\"winp1taskbarent\",\"winp1taskbardirect\",\"winp1taskbardirectent\",\"winp1taskbarent\",\"winp2juntaskbar\",\"winp2juntaskbarent\",\"winp2\",\"winp2ent\",\"winp2fp\",\"winp2fpent\",\"winp2fptaskbar\",\"winp2fptaskbarent\",\"winp2fptaskbarhover\",\"winp2fptaskbarhoverent\",\"winp2widget\",\"winp2widgetent\"]);const C=new Set([\"finance-app-win\",\"weather-app-win\",\"winpstoreapp\"]);new Set([\"msedgdhp\",\"msedgdhphdr\",\"msedgntphdr\",\"msedgntp\",\"msedgdhp\",\"entnewsntp\"]);var O;!function(e){e.outlookMobile=\"OnOOutlookMobile\",e.officeMobile=\"OnOOfficeMobile\",e.sapphire=\"OnOStartApp\",e.skype=\"OnOSkype\"}(O||(O={}));const _=new Set([\"hpmsn\"]);new Set([\"emmx\",\"vivo\"]);function I(){var e;return v()?b(document.head.dataset.clientSettings||(null===(e=document.getElementsByClassName(\"peregrine-widget-settings\")[0])||void 0===e?void 0:e.getAttribute(\"data-client-settings\"))):null}const q=\"feed/personalize/settings\";var E,N,M;function T(e){let t,n=!1;const o=function(){return n||(n=!0,t=e()),t};return o.cache={clear:()=>{n=!1,t=void 0}},o}!function(e){e[e.Unknown=0]=\"Unknown\",e[e.NotSignedIn=1]=\"NotSignedIn\",e[e.SignedIn=2]=\"SignedIn\"}(E||(E={})),function(e){e.MSA=\"MSA\",e.AAD=\"AAD\",e.UNSUPPORTED_SOVEREIGNTY=\"UNSUPPORTED_SOVEREIGNTY\"}(N||(N={})),function(e){e[e.NonAadAccount=0]=\"NonAadAccount\",e[e.AadAccount=1]=\"AadAccount\",e[e.Unknown=2]=\"Unknown\"}(M||(M={}));const P=\"currentaccount\",R=T((()=>{const e=d(P,!0),t=e&&b(e),{login_hint:n}=t||{};return n&&t})),L=T((()=>!!d(P)));let D=new class{constructor(){v()?(this.isDebugEnabled=(function(e,t){const n=t.replace(/[[\\\\]]/g,\"\\\\\\\\$&\"),o=new RegExp(\"[?&]\"+n+\"(=([^&#]*)|&|#|$)\").exec(e);if(!o)return null;const i=o[2];return decodeURIComponent(i.replace(/\\\\+/g,\" \"))||\"\"}(window.location.href,\"debug\")||\"\").toLowerCase()in{1:1,true:1},this.isDebugEnabled&&!n.g.TEST_ENV&&(window.webpackRequire=n)):this.isDebugEnabled=!1}getLoggingService(){return null}isDebug(){return this.isDebugEnabled}setDebug(e){this.isDebugEnabled=e}setTags(e){}log(e,t){this.isDebug()&&console.info(e)}logError(e){console.error(e)}logCallback(e){this.isDebug()&&console.info(e())}logObjects(...e){this.isDebug()&&console.log(...e)}logSingleObject(e,t){this.isDebug()&&console.log(e)}};let U=new class extends class{constructor(e){this.storage=e}get supported(){return!!this.storage}getItem(e){if(this.supported)return this.storage.getItem(e)}getObject(e,t){const n=this.getItem(e);if(null!=n){const e=b(n);if(null!=e)return e}return t}key(e){if(this.supported&&e>=0)return this.storage.key(e)}keys(){return this.supported?Object.keys(this.storage):[]}setObject(e,t){void 0!==t?this.setItem(e,JSON.stringify(t)):this.removeItem(e)}removeObject(e){const t=this.removeItem(e);if(null!=t)return b(t)}setItem(e,t,n=!0){if(this.supported)try{if(!t)throw\"Attempted to store null/undefined value: \"+t;this.storage.setItem(e,t)}catch(e){if(!n)throw e;D.logError(e)}else if(!n)throw new Error(\"WebStorage not supported\")}get length(){if(this.supported)return this.storage.length}removeItem(e){if(this.supported){const t=this.getItem(e);return this.storage.removeItem(e),t}}clear(){this.supported&&this.storage.clear()}removeSubstringKeys(e){if(!this.supported||!e)return;const t=[];for(let n=0;n<this.storage.length;n++){const o=this.key(n);o&&o.includes(e)&&t.push(o)}for(let e=0;e<t.length;e++)this.removeItem(t[e])}}{constructor(){let e=null;if(v())try{e=localStorage}catch(e){}super(e)}},W=new Map;const F=Object.freeze({set(e,t){return W.set(e,t),this},get:function(e,t){let n=W.get(e);return void 0===n&&t&&(n=t(),W.set(e,n)),n},clear(){W.clear()},delete:e=>W.delete(e),has:e=>W.has(e)});const j=\"__PageExperimentInstance__\";function H(e){F.set(j,e)}function B(e){var t,n;if(!F.has(j)&&v()){H($(document.head.dataset.info||(null===(n=null===(t=window.document.getElementsByClassName(\"peregrine-widget-settings\")[0])||void 0===t?void 0:t.dataset)||void 0===n?void 0:n.info)||\"\"))}const o=F.get(j);return o&&o.has(e)}function $(e){const t=(e||\"\").replace(/(^f:|;.*$)/g,\"\").split(\",\");return new Set(t)}const G=\"1s-tokens\",J=12096e5;var V;let z,X;function K(){return z=Z(),z&&z.accessToken?z:void 0}function Y(){if(z=Z(),!z)return\"notAvailable\";const e=z.expiresOn,t=new Date(e),n=\"expired\";if(!t.getTime())return n;const o=new Date,i=\"valid\";if(t>o)return i;if(B(\"prg-noext\"))return n;{const e=R();if(e&&e.account_type===N.MSA){if(new Date(t.getTime()+J)>o)return i}}return n}function Z(){return z=z||void 0===z&&U.getObject(G)||null,z}!function(e){e.NotAvailable=\"notAvailable\",e.Expired=\"expired\",e.Valid=\"valid\"}(V||(V={}));const Q=\"__RequestDataInstance__\";class ee{constructor(e,t){if(this.url=new URL(e.href),this.innerHeight=e.innerHeight,this.devicePixelRatio=e.devicePixelRatio,this.canUseCssGrid=e.canUseCssGrid,this.requestId=e.requestId,this.cookie=e.cookie,this.referer=e.referer,this.userAgent=e.userAgent,this.clientData=e.clientData,this.oneServiceHeaders=function(e){try{if(e)return JSON.parse(e)}catch(e){}}(e.oneServiceHeaders)||{},this.isPssrMode=t,t){const e=te(\"OSATE\",this.cookie),t=!!e&&\"1\"===e,n=te(\"OSAT\",this.cookie);if(t&&n||!e&&!n)return this.msalAuthReady=!0,void(n&&(this.oneServiceHeaders.Authorization=`Bearer ${n}`));this.msalAuthReady=!1,this.pssrRejectedReason=e&&!t?\"interactiveLogin\":e&&!n?\"missOSAT\":\"missOSATE\"}}static getInstance(){const e=F.get(Q);return e||(n.g.TEST_ENV?ne({href:\"http://localhost:8080/\",innerHeight:768,devicePixelRatio:1,canUseCssGrid:!1,requestId:\"0\",cookie:\"\",userAgent:\"\",referer:\"\",oneServiceHeaders:\"\"}):ne({href:\"http://localhost:8080/\",innerHeight:0,devicePixelRatio:0,canUseCssGrid:!1,requestId:\"0\",cookie:\"\",userAgent:\"\",referer:\"\",oneServiceHeaders:\"\"}))}static resetInstance(e,t=!1){const n=new ee(e,t);return F.set(Q,n),n}}function te(e,t){if(t&&e){const n=new RegExp(\"\\\\\\\\b\"+e+\"\\\\\\\\s*=\\\\\\\\s*([^;]*)\",\"i\").exec(t);return n&&n.length>1?n[1]:null}return null}const ne=ee.resetInstance,oe=()=>ee.getInstance();function ie(){try{return localStorage}catch(e){return null}}const se=\"uxlogin\",re=\"uxlogout\",ae=\"uxedit\",ce=\"useRedirect\",de=\"uxswitch\",ue=T((()=>{const e=ie();return e&&\"1\"===e.getItem(se)||v()&&location.search&&location.search.includes(\"uxlogin=1\")}));const le=T((()=>{const e=function(){try{return sessionStorage}catch(e){return null}}();return e&&!!e.getItem(re)}));const pe=T((()=>{const e=ie();return e&&\"1\"===e.getItem(ae)}));const he=T((()=>{const e=ie(),t=!B(\"prg-noredirect\")&&e&&\"1\"===e.getItem(ce)&&function(){const e=document.head.dataset.clientSettings||\"\",{browser:t}=b(e)||{},{browserType:n=\"\"}=t||{};return!!/safari/i.test(n)}();return t}));const ge=T((()=>{const e=ie();return e&&\"1\"===e.getItem(de)}));var fe;!function(e){e.outlookMobile=\"OnOOutlookMobile\",e.officeMobile=\"OnOOfficeMobile\",e.sapphire=\"OnOStartApp\",e.skype=\"OnOSkype\",e.winWeatherApp=\"weather-app-win\",e.xiaomiApp=\"xmweather-\",e.winMoneyApp=\"finance-app-win\"}(fe||(fe={}));const me=[\"ios\",\"android\",\"ipados\"];let we=Ie(\"ocid\").toLowerCase(),be=Ie(\"chpltfm\"),[ve,ye]=be.toLowerCase().split(\"-\");function ke(){if(!v())return!1;const e=window.sapphireWebViewBridge,t=window.webkit,n=e&&e.send,o=t&&t.messageHandlers&&t.messageHandlers.send&&t.messageHandlers.send.postMessage;return!(!n&&!o)}function Se(){const e=be&&\"outlook\"===ve&&me.includes(ye),t=we===fe.outlookMobile.toLowerCase();return e||t}function Ae(){const e=be&&[\"office\",\"union\"].includes(ve)&&me.includes(ye),t=we===fe.officeMobile.toLowerCase();return e||t}function xe(){const e=we===fe.skype.toLowerCase()||\"skype\"===ve;return v()&&(null===(t=window.skypeWebviewBridge)||void 0===t?void 0:t.isSkype)||e;var t}function Ce(){return ke()||we===fe.sapphire.toLowerCase()||we===\"superappdhp\".toLowerCase()}function Oe(){return\"3rdp\"===ve||we.startsWith(fe.xiaomiApp)}const _e=T((()=>ke()||xe()||Ae()||Se()||Ce()||we===fe.winWeatherApp.toLowerCase()||we===fe.winMoneyApp.toLowerCase()||function(){const e=Ie(\"edge\");return(\"emmx\"===ve||\"1\"===e)&&Ce()}()||Oe()));function Ie(e){try{return new URL(location.href).searchParams.get(e)||\"\"}catch(e){return\"\"}}const qe=I()||{},Ee={newsAndInterests:1,windowsNewsbar:1,windowsNewsPlus:1,winWidgets:1,windowsShell:1,windowsShellV2:1,distribution:1,superApp:1,channel:1},Ne={edgeChromium:1},Me={winWidgets:1},Te={shopping:1},Pe={edge:1,edgeChromium:1,channel:1,cgHomePage:1,distribution:1,mmx:1,newsAndInterests:1,windowsNewsbar:1,windowsNewsPlus:1,winWidgets:1,windowsShell:1,windowsShellV2:1,superApp:1},Re=T((()=>qe&&qe.apptype)),Le=(T((()=>v()&&Re()in Me)),T((()=>v()&&!_e()&&!(Re()in Ee)&&!We()&&!Fe()))),De=T((()=>Le()&&!(Re()in Ne)));T((()=>Le()&&(!(Re()in Ne)||!L()))),T((()=>Le()&&!$e()&&!Ge()));function Ue(){return Ge()||$e()}const We=T((()=>{const e=\"edgeChromium\"!==Re()&&!(Re()in Te)&&Je()&&function(){const e=new URLSearchParams(v()?window.location.search:oe().url.search).get(\"ocid\")||(null==qe?void 0:qe.ocid),t=null==e?void 0:e.toLowerCase();return!_.has(t)&&\"homePage\"!==Re()&&!C.has(t)}()&&!(\"windows\"==Re()&&\"windowshp\"==(qe&&qe.pagetype)&&(v()?window.location.href:oe().url.href).includes(`${q}`));return e})),Fe=()=>v()&&document&&document.body&&document.body.getElementsByClassName(\"peregrine-widgets\").length>0,je=T((()=>B(\"prg-1s-workid\")));T((()=>Re()in Pe||We()));function He(){const e=X;if(e)return D.log(\"dual-auth: tryGet1SAuthToken returned live tokens\"),e;const t=K();if(t)return D.log(`dual-auth: tryGet1SAuthToken returned cached tokens that are ${Y()}`),t;D.log(\"dual-auth: tryGet1SAuthToken returned empty tokens\")}function Be(e){const t={};return e&&(t[y]=`Bearer ${e}`),t}function $e(){return De()&&ue()||De()&&!ue()&&R()&&(\"expired\"==Y()||pe())||le()||he()}function Ge(){return De()&&!R()&&ge()}const Je=T((()=>{const{browser:e}=qe,{browserType:t=\"\"}=e||{};return!!/edgeChromium/i.test(t)}));const Ve=\"__core_auth_authHeaderPromiseParts__\",ze=()=>F.get(Ve);var Xe;!function(){let e;const t={promise:new Promise((t=>e=t)),resolver:e};F.set(Ve,t)}(),function(e){e.GLOBAL=\"GLOBAL\",e.GCC_MODERATE=\"GCC_MODERATE\"}(Xe||(Xe={}));let Ke;function Ye(){return Ke}function Ze(e){const t=e||Ye()||\"al_app_anon\",n=Qe();return!!(n&&([\"anon\",\"al_anon\"].includes(t)&&n.AL_ANON||[\"app_anon\",\"al_app_anon\"].includes(t)&&n.AL_APP_ANON))}const Qe=T((()=>b(d(\"AL_STATE\",!0))));const et=()=>{const e=d(\"elt\",!0),t=e&&b(e),{access_token:n,account_type:o,login_hint:i}=t||{};return(n||o||i)&&t};var tt;!function(e){e.Adult=\"adult\",e.Enterprise=\"enterprise\",e.Kids=\"kids\"}(tt||(tt={}));function nt(e,t,n,o){return new(n||(n=Promise))((function(i,s){function r(e){try{c(o.next(e))}catch(e){s(e)}}function a(e){try{c(o.throw(e))}catch(e){s(e)}}function c(e){var t;e.done?i(e.value):(t=e.value,t instanceof n?t:new n((function(e){e(t)}))).then(r,a)}c((o=o.apply(e,t||[])).next())}))}Object.create;Object.create;function ot(e){return new Promise((t=>setTimeout(t,e)))}const it=document.head.attributes[\"data-info\"].value;let st;if(it){const e=it.split(\";\").find((e=>e.startsWith(\"f:\")));e&&(st=e.substring(2),st.indexOf(\"1sw-pcsreturnhp\")>-1&&g(\"PCS returned. Executing inline JS.\",8e4,{customMessage:location.href},p.NoAlert))}(new class{constructor(){this.childCookieName=\"child\",this.domInfo=document.head.dataset.info,this.command=\"command\"}init(e=null){this.clientSettings=e||I(),this.authCookieName=Ye()||window._authCookieName||\"\",this.bundle=window._webWorkerBundle||\"\";const t=this.buildWebWorkerUrl(),n=window.webWorker=new Worker(t,{name:\"web-worker\"}),o=window.webWorkerMessages=[];n.onmessage=e=>{o.push(e.data)};const i=window.webWorkerErrors=[];if(n.onerror=e=>{i.push(e)},window.chrome){const e=this.getAudienceMode(this.clientSettings),t=window.webWorker&&window.chrome&&window.chrome.ntpSettingsPrivate;t&&\"function\"==typeof t.getPref&&(t.getPref(\"ntp.news_feed_display\",(e=>{e&&e.value&&n.postMessage({id:\"FeedDisplaySetting\",type:this.command,payload:e.value})})),t.getPref(\"ntp.layout_mode\",(e=>{e&&e.value&&n.postMessage({id:\"LayoutModeSetting\",type:this.command,payload:e.value})})),t.getPref(\"ntp.user_nurturing\",(e=>{let t=!1;e&&e.value&&e.value.length&&(t=this.getSingleColRequest(e.value)),n.postMessage({id:\"RenderSingleColumn\",type:this.command,payload:t})})),t.getPref(\"new_device_fre.has_user_seen_new_fre\",(e=>{e&&n.postMessage({id:\"NewUserFre\",type:this.command,payload:e.value})}))),t&&\"function\"==typeof t.getConfigData&&t.getConfigData((e=>{const t=(null==e?void 0:e.enabledFeatures)||[];t.includes(\"msReducedNtpAdsForNewDevice_stage1\")&&n.postMessage({id:\"EdgeNoAds\",type:this.command,payload:!0}),t.includes(\"msReducedNtpAdsForNewDevice_stage2\")&&n.postMessage({id:\"EdgeReduceAds\",type:this.command,payload:!0})})),e===tt.Enterprise&&this.clientSettings.browser&&\"edgeChromium\"===this.clientSettings.browser.browserType&&parseInt(this.clientSettings.browser.version)>=87?this.getEnterpriseAccessToken().then((e=>{e&&n.postMessage({id:\"AuthTokenEnterprise\",type:this.command,payload:Be(e)})})):n.postMessage({id:\"AuthTokenEnterprise\",type:this.command,payload:{}}),e!==tt.Adult&&e!==tt.Enterprise||this.sendPageConfiguration()}Ue()&&ze().promise.then((e=>n.postMessage({id:\"AuthHeaders\",type:this.command,payload:e||{}})))}buildWebWorkerUrl(e=null){return(this.bundle||\"\")+\"#\"+this.qsFromDocument()+this.qsFromCookies()+this.qsFromDataAttribute(e||this.clientSettings)+this.qsMisc()+this.qsAuth(e||this.clientSettings)+this.qsFromUrl()+this.qsFromServiceWorker()+this.qsSelectedPivot()+this.qsXboxXToken()}qs(e,t,n){return e?t+\"=\"+(n||e)+\"&\":\"\"}qsFromDocument(){var e;return this.qs(document.getElementsByTagName(\"html\")[0].getAttribute(\"lang\"),\"lang\")+this.qs(encodeURIComponent(window.location.href),\"adsReferer\")+this.qs(null===(e=v()?window.devicePixelRatio:oe().devicePixelRatio)||void 0===e?void 0:e.toString(),\"devicePixelRatio\")}qsFromServiceWorker(){if(!navigator.serviceWorker||!navigator.serviceWorker.controller)return\"\";const e=navigator.serviceWorker.controller;if(\"activated\"!==e.state||!e.scriptURL)return\"\";if(e.scriptURL){const t=new URL(e.scriptURL).searchParams.toString();return t?\"&\"+t+\"&\":\"\"}return\"\"}qsFromCookies(){return this.qs(l(this.authCookieName),\"aace\",\"1\")+this.qs(l(\"muid\"),\"muid\")+this.qs(l(this.childCookieName),\"child\")+this.qs(l(\"cbypass\"),\"cbypass\")+this.qs(this.cookieBannerConsentRequired().toString(),\"ccRequired\")+this.qs(l(\"ecasession\"),\"ecasession\")+this.qs(l(\"TOptOut\"),\"browserOptOut\")}qsFromDataAttributeHelper(e,t){return e&&e.featureFlags&&e.featureFlags.wpoEnabled&&t&&!t.includes(\"remwpofltww\")&&(t=this.appendWpoFlightsToInfo(e,t)),this.qs(e.pcsInfo&&e.pcsInfo.env||e.env,\"env\")+this.qs(e.aid,\"aid\")+this.qs(e.apptype,\"apptype\")+this.qs(e.pagetype,\"pagetype\")+this.qs(e.audienceMode,\"audienceMode\")+this.qs(e.configIndexDocId,\"configIndexDocId\")+this.qs(e.deviceFormFactor,\"deviceFormFactor\")+this.qs(e.domain,\"domain\")+this.qs(e.configRootUrl,\"configRootUrl\")+this.qs(this.getHighestCbid(e.cbid,e.apptype),\"cbid\")+this.qs(e.ocid,\"ocid\")+this.qs(e.os,\"os\")+this.qs(JSON.stringify(e.locale),\"locale\")+this.qs(e.geo_lat,\"lat\")+this.qs(e.geo_long,\"long\")+this.qs(JSON.stringify(e.featureFlags),\"featureFlags\")+this.qs(JSON.stringify(e.browser),\"browser\")+this.qs(JSON.stringify(e.servicesEndpoints),\"servicesEndpoints\")+this.qs(e.bundleInfo&&e.bundleInfo.v||\"\",\"buildVersion\")+this.qs(t,\"dataInfo\")}qsSelectedPivot(){const e=\"selectedPivot\";let t;try{const n=ie();n&&(t=n.getItem(e))}catch(e){console.warn(\"Error getting pivot id from local storage. \"+e)}return this.qs(t,e)}qsXboxXToken(){const e=\"xboxXTokenId\";let t;try{const n=ie();n&&(t=n.getItem(e))}catch(e){console.warn(\"Error getting xbox XToken from local storage. \"+e)}return this.qs(t,e)}appendWpoFlightsToInfo(e,t){const n=this.getWpoFlightsFromLocalStorage(e);if(n&&n.length){const e=\";\",o=t.split(e);for(let e=0;e<o.length;e++){const t=o[e];if(t&&t.startsWith(\"f:\")){o[e]=t+\",\"+n.join();break}}return o.join(e)}return t}getWpoFlightsFromLocalStorage(e){const t=ie(),n=e.locale,o=`wpo_data_ ${e.audienceMode}_${n.language}_${n.market}_${e.pagetype}_${e.apptype}`;try{const e=t.getItem(o);if(e){return JSON.parse(e).treatments.map((e=>e.id))}}catch(e){console.warn(`Error getting wpo flights from ls for ${o} Error:${e}`)}return null}getHighestCbid(e,t){try{const n=ie(),o=parseInt(e),i=parseInt(JSON.parse(n.getItem(`cbid_${t||\"\"}`)));let s;if(o&&!isNaN(o)&&i&&!isNaN(i)&&(s=o>i?o:i),s=s||o||i,s)return window._cbid=s.toString()}catch(e){console.warn(\"Error getting highest CBID\"+e)}}getAudienceMode(e){ie();const t=d(this.authCookieName),n=d(this.childCookieName),{child:o}=t&&JSON.parse(t)||{};return t&&(1===o||n)?\"kids\":e.audienceMode||tt.Adult}sendPageConfiguration(){const e=this.clientSettings.pagetype;if(e){const t=d&&d(\"pglt-edgeChromium-\"+e);if(t)return void window.webWorker.postMessage({id:\"PageConfiguration\",type:this.command,payload:t})}window.webWorker.postMessage({id:\"PageConfiguration\",type:this.command,payload:!1})}qsFromDataAttribute(e){let t,n;const o=ie();if(o){const i=JSON.parse(o.getItem(\"shd_\"+e.pagetype)||null);i&&i.clientSettings&&i.info&&(t=Object.assign(Object.assign({},i.clientSettings),{bundleInfo:e.bundleInfo}),n=i.info)}return(!t||!n||e.pageGenTime>=t.pageGenTime)&&(t=e,n=this.domInfo),t.audienceMode=this.getAudienceMode(t),this.qsFromDataAttributeHelper(t,n)}qsFromUrl(){const e=location.search;return e&&e.length?e.substring(1,e.length):\"\"}getEnterpriseAccessToken(){return new Promise((e=>{window.chrome&&window.chrome.authPrivate?window.chrome.authPrivate.getPrimaryAccountInfo((t=>{t&&\"GCC_MODERATE\"!==t.region_scope||e(\"\");const n={account_id:t.account_id,account_type:t.account_type,client_id:\"d7b530a4-7680-4c23-a8bf-c52c121d2e87\",scope_or_resource:\"https://enterprisenews.microsoft.com\"};window.chrome.authPrivate.acquireAccessTokenSilently(n,(t=>{t.is_success?e(t.access_token):e(\"\")}))})):e(\"\")}))}qsMisc(){return this.qs(performance.timeOrigin&&performance.timeOrigin.toString(),\"mainTimeOrigin\")}qsAuth(e){let t=this.qs(De()&&\"1\",\"disableWWAuth\");if(!Ue()){const e=De()&&He()||{};t+=this.qs(encodeURIComponent(JSON.stringify(Be(e.accessToken))),\"authHeaders\")}return t+=this.qs(Ze()&&\"1\",\"isAccountLinked\"),t+=this.qs(this.shouldFetchAppAnonCookie()&&\"1\",\"fetchAppAnonCookie\"),t}getSingleColRequest(e){const t=\"render_single_column\",n=\"feed_layout\";let o,i;for(const s of e){const{key:e,value:r}=s;e===t?o=r:e===n&&(i=r)}return\"boolean\"==typeof o?o:!!i&&(i&&\"single\"===i.type)}cookieBannerConsentRequired(){const e=null!=document.getElementById(\"consent-banner-container\")&&null===d(\"MSCC\"),t=null!=document.getElementById(\"onetrust-sdk\")&&null===d(\"eupubconsent-v2\");return e||t}shouldFetchAppAnonCookie(){if(!Je())return!0;const e=(()=>{const e=et();if(e){if(\"MSA\"===e.account_type)return N.MSA;if(\"AAD\"===e.account_type)return N.AAD}})();return e===N.MSA||u(\"lt\")?!u(\"aace\"):e===N.AAD?Ze()&&!je():void 0}}).init(),function(e=[\"vendors\",\"common\",\"microsoft\"],t=\"Error when loading bundle(s): \",n=5e5,o,i){m().then((()=>{setTimeout((()=>{const n=window.webpackJsonp;if(n){const s=n.length,r=e.length+1;if(s<r){if(s===r-1)e=[\"experience\"];else{n.slice(0,r).forEach((t=>{t.length&&t[0][0]&&e.splice(e.indexOf(t[0][0]),1)}))}w(20202),g(t+e.toString(),20202,{}),i&&(w(o),i(o,{customMessage:e.toString()}))}}}),n)}))}();const rt=\\'\\\\n            <svg fill=\"black\" viewBox=\"0 0 124.66 168.19\" xmlns=\"http://www.w3.org/2000/svg\" >\\\\n                <title>msn_logo</title>\\\\n                <g id=\"Layer_2\" data-name=\"Layer 2\">\\\\n                    <g id=\"Layer_1-2\" data-name=\"Layer 1\">\\\\n                        <path d=\"M82,91.65c4.37-9.67,9-19.47,15.26-28.08a62.89,62.89,0,0,1,10.59-11.63c3.19-2.64,8.68-6.68,13-4.53s3.93,9,3.35,13a60,60,0,0,1-4.45,14.85c-5.44,12.75-14,24.19-22.79,34.8-1.61,1.94-3.24,3.87-4.93,5.76a91.06,91.06,0,0,1-1,9.88,60.69,60.69,0,0,1-12.4,29c-2.8,3.44-7.74,8.81-12.77,7.81-5.31-1.06-5.32-8.77-5-12.87a57.14,57.14,0,0,1,3.78-15.39C72,115.8,79.9,96.68,82,91.65\"/><path d=\"M71,105.76c-5.37,18.4-16.84,44.69-33.28,55.66-7.45,5-17.46,8.8-26.36,5.6C1.47,163.53-1.09,152.5.38,143.16,2,132.72,7.75,123.65,14.49,115.75a54.18,54.18,0,0,1,12.67-10.13c7.47,4.14,16.59,8.72,24.27,11.15A99.3,99.3,0,0,1,34,102.35c-5.72-6.66-14.92-19.81-17.78-30.09-2.93-10.55-5.37-21.58-5.08-32.58.27-10,2.75-20.5,8.77-28.68C26.14,2.62,36.09-2,46.41.86,56.2,3.59,63.73,11.6,68.72,20.13a68.58,68.58,0,0,1,8.86,29.44A154.72,154.72,0,0,1,71,105.76Z\"/>\\\\n                    </g>\\\\n                </g>\\\\n            </svg>\\\\n        \\',at=300;function ct(){return document.body.querySelector(\"entry-point\")||document.body.querySelector(\"entry-point-hp-mobile\")}function dt(e){var t,n;return((null===(n=null===(t=document.head)||void 0===t?void 0:t.getAttribute(\"data-info\"))||void 0===n?void 0:n.split(\";\").find((e=>e.startsWith(\"f:\"))))||\"\").includes(e)}!function(){if(!((null==st?void 0:st.indexOf(\"prg-hp-nsl\"))>=0)){class t extends HTMLElement{constructor(){super(),this.attachShadow({mode:\"open\"})}connectedCallback(){const e=document.createElement(\"style\");e.innerHTML=\\'\\\\n                :host {\\\\n                    font-family: Segoe UI, Segoe UI Midlevel, Segoe WP, Arial, sans-serif !important;\\\\n                    display: flex;\\\\n                    height: 100vh;\\\\n                    width: 100vw;\\\\n                    position: fixed;\\\\n                    background: #e0e0e0;\\\\n                    top: 0;\\\\n                    left: 0;\\\\n                    justify-content: center;\\\\n                    color: #000;\\\\n                    z-index: 99999;\\\\n                }\\\\n                .container {\\\\n                    display: flex;\\\\n                    margin-top: 200px;\\\\n                    flex-direction: column;\\\\n                    user-select: none;\\\\n                    -moz-user-select: none;\\\\n                    -webkit-user-select: none;\\\\n                    -ms-user-select: none;\\\\n                    align-items: center;\\\\n                }\\\\n                .logo {\\\\n                    margin: 0 0 15px;\\\\n                    font-size: 38px;\\\\n                    letter-spacing: 2px;\\\\n                    word-spacing: -5px;\\\\n                    opacity: 1;\\\\n                }\\\\n                .logo svg {\\\\n                    color: #000;\\\\n                    display: inline-block;\\\\n                    height: 35px;\\\\n                    position: relative;\\\\n                    top: 3px;\\\\n                }\\\\n                .loading-bar {\\\\n                    display: block;\\\\n                    height: 2px;\\\\n                    width: 100px;\\\\n                    background: #fff;\\\\n                    overflow: hidden;\\\\n                    border-radius: 2px;\\\\n                }\\\\n                .loading-bar:before {\\\\n                    content: \"\";\\\\n                    display: block;\\\\n                    height: 2px;\\\\n                    width: 40px;\\\\n                    background: #000;\\\\n                    left: -20px;\\\\n                    position: relative;\\\\n                    animation: loading-bar 1.5s infinite;\\\\n                }\\\\n                @keyframes loading-bar {\\\\n                    0 {\\\\n                        left: -20px;\\\\n                    }\\\\n                    50% {\\\\n                        left: 80px;\\\\n                    }\\\\n                    100% {\\\\n                        left: -20px;\\\\n                    }\\\\n                }\\\\n            \\';const t=`\\\\n                <p class=\"logo\">\\\\n                    ${rt} msn\\\\n                </p>\\\\n                <div class=\"loading-bar\"></div>\\\\n            `,n=document.createElement(\"div\");n.className=\"container\",n.innerHTML=t,this.shadowRoot.appendChild(e),this.shadowRoot.appendChild(n)}}customElements.get(\"msn-hp-loading-indicator\")||customElements.define(\"msn-hp-loading-indicator\",t),setTimeout((()=>{ct()||function(){const t=document.body;if(t)e();else{const n=new MutationObserver((function(){t&&(n.disconnect(),e())}));n.observe(document.documentElement,{childList:!0})}}()}),at)}function e(){const e=document.createElement(\"msn-hp-loading-indicator\");e.id=\"loader\",document.body.appendChild(e);const t=new MutationObserver((function(){ct()&&(t.disconnect(),document.body.querySelector(\"msn-hp-loading-indicator\").remove())}));t.observe(document.body,{childList:!0})}}(),(dt(\"prg-sdkpreload\")||dt(\"prg-renderoptimize\"))&&function(){nt(this,void 0,void 0,(function*(){window.apntag=window.apntag||{anq:[]},window.apntag.anq=window.apntag.anq||[],yield function(e){return nt(this,void 0,void 0,(function*(){if(!v())return;const{src:t,id:n,async:o=!0,container:i=document.head,retryNumber:s=0,retryDelayMs:r=0}=e;try{yield function(e,t=3,n=100){return nt(this,void 0,void 0,(function*(){if(t<=1)return e();let o,i=1;do{try{o=yield e()}catch(e){if(i===t)throw e&&e.message&&(e.message=`${e.message} after ${i} attempts`),e;yield ot(n)}}while(!o&&++i<=t);return o}))}((()=>function(e,t,n,o=!0){return new Promise(((i,s)=>{const r=function(e,t,n=!0,o=\"anonymous\",i,s){if(!v())throw new Error(\"createScriptTag is unsupported server side. This call should be wrapped in canUseDOM().\");const r=document.createElement(\"script\");return t&&(r.id=t),i&&r.setAttribute(\"class\",i),s&&(r.onload=s),r.type=\"text/javascript\",e&&(r.src=e,r.async=n,r.crossOrigin=o),window&&window.NONCE_ID&&(r.nonce=window.NONCE_ID),r}(e,t,o,void 0,void 0,(()=>i(!0)));r.crossOrigin=void 0,r.onerror=s,n.prepend(r)}))}(t,n,i,o)),s,r)}catch(e){g(\"Failed to download Static JS\",11103,{scriptId:n,scriptSrc:t},p.Alert)}}))}({id:\"display-sdk\",src:\"https://acdn.adnxs.com/ast/ast.js\",container:document.head,retryDelayMs:200,retryNumber:5})}))}()}();\\r\\n        </script>\\r\\n\\r\\n\\r\\n<link rel=\"dns-prefetch\" href=\"//img-s-msn-com.akamaized.net\" crossorigin=\"use-credentials\"><link rel=\"dns-prefetch\" href=\"//sb.scorecardresearch.com\" crossorigin=\"use-credentials\"><link rel=\"dns-prefetch\" href=\"//th.bing.com\" crossorigin=\"use-credentials\"><link rel=\"preconnect\" href=\"//img-s-msn-com.akamaized.net\" crossorigin=\"use-credentials\"><link rel=\"preconnect\" href=\"//sb.scorecardresearch.com\" crossorigin=\"use-credentials\"><link rel=\"preconnect\" href=\"//th.bing.com\" crossorigin=\"use-credentials\"><link rel=\"dns-prefetch\" href=\"//api.msn.com\" crossorigin=\"use-credentials\"><link rel=\"dns-prefetch\" href=\"//assets.msn.com\" crossorigin=\"anonymous\"><link rel=\"dns-prefetch\" href=\"//assets.msn.com\" crossorigin=\"use-credentials\"><link rel=\"dns-prefetch\" href=\"//c.bing.com\" crossorigin=\"use-credentials\"><link rel=\"dns-prefetch\" href=\"//c.msn.com\" crossorigin=\"use-credentials\"><link rel=\"dns-prefetch\" href=\"//www.bing.com\" crossorigin=\"use-credentials\"><link rel=\"preconnect\" href=\"//api.msn.com\" crossorigin=\"use-credentials\"><link rel=\"preconnect\" href=\"//assets.msn.com\" crossorigin=\"anonymous\"><link rel=\"preconnect\" href=\"//assets.msn.com\" crossorigin=\"use-credentials\"><link rel=\"preconnect\" href=\"//c.bing.com\" crossorigin=\"use-credentials\"><link rel=\"preconnect\" href=\"//c.msn.com\" crossorigin=\"use-credentials\"><link rel=\"preconnect\" href=\"//www.bing.com\" crossorigin=\"use-credentials\">\\r\\n        <script type=\"text/javascript\" nonce=\"\">\\r\\n            if(matchMedia(\"(prefers-color-scheme:dark)\").matches){const s=document.createElement(\"style\");document.head.appendChild(s);s.type=\"text/css\";s.appendChild(document.createTextNode(\"body{background:#242424}\"));}\\r\\n        </script>\\r\\n\\r\\n\\r\\n        <script type=\"text/javascript\" nonce=\"\">\\r\\n        const _clientSettings = JSON.parse(document.head.dataset.clientSettings);\\r\\n\\r\\n                function preloadConfigIDB(){const o=window.indexedDB;if(!o)return;const e=\"Configurations_12\",n=\"IndexedDB-\"+e+\".\",r=window._appTimings||(window._appTimings={});r[n+\"open-Start\"]=performance.now(),window._idbConfigLookup={};const i=window._idbConfigLookup;let t,s;window._idbConfigReadPromise=new Promise((o,e)=>{t=o,s=e}),window._idbConfigOpenPromise=(()=>{try{const d=o.open(\"wwConfigs\",1);return new Promise((o,c)=>{d.onerror=(()=>{c(new Error(\"Config IDB preload open failure: \"+d.error))}),d.onsuccess=(()=>{r[n+\"open-End\"]=performance.now();const c=d.result;o(c),r[n+\"getAllObjects-Start\"]=performance.now();const a=c.transaction(e,\"readonly\").objectStore(e).openCursor();a.onsuccess=function(){const o=this.result;o?(i[o.key]=o.value,o.continue()):(r[n+\"getAllObjects-End\"]=performance.now(),t())},a.onerror=(()=>{s(new Error(\"Config IDB preload read failure\"))})}),d.onupgradeneeded=(()=>{d.result.createObjectStore(e)})})}catch(o){return Promise.reject(new Error(\"Config IDB preload open failure: \"+o))}})()}preloadConfigIDB();\\r\\n        </script>\\r\\n    <script type=\"text/javascript\" nonce=\"\">\\r\\n        function appendScript(url,async,defer){let s=document.createElement(\"script\");s.type=\"text/javascript\";s.src=url;if(async){s.async=true;}if(defer){s.defer=true;}s.onerror=()=>onErrorHandler(s.src);s.nonce=\"\";s.crossOrigin=\"anonymous\";document.body.appendChild(s);}\\r\\n    </script>\\r\\n\\r\\n\\r\\n</head>\\r\\n<body>\\r\\n    \\r\\n\\r\\n<div id=\"root\" data-config-indexdocid=\"\">\\r\\n</div>\\r\\n\\r\\n\\r\\n\\r\\n\\r\\n\\r\\n\\r\\n\\r\\n\\r\\n    <div id=\"ssr\" data-ssr-entry=\"/bundles/v1/homePage/latest/SSR-service-entry.62b614f3cbb5a5da7646.js\" hidden></div>\\r\\n\\r\\n    <script src=\\'https://assets.msn.com/bundles/v1/homePage/latest/vendors.cc344578e78bd295323b.js\\' type=\"text/javascript\" nonce=\"\"   crossorigin=\"anonymous\"></script>\\r\\n    <script src=\\'https://assets.msn.com/bundles/v1/homePage/latest/microsoft.3f64714b1d930ba475a9.js\\' type=\"text/javascript\" nonce=\"\"   crossorigin=\"anonymous\"></script>\\r\\n    <script src=\\'https://assets.msn.com/bundles/v1/homePage/latest/common.c63c6e0bce7e6b4a5f2b.js\\' type=\"text/javascript\" nonce=\"\"   crossorigin=\"anonymous\"></script>\\r\\n        <script src=\\'https://assets.msn.com/bundles/v1/homePage/latest/experience.a9a6cb5083f621a217f7.js\\' type=\"text/javascript\" nonce=\"\"   crossorigin=\"anonymous\"></script>\\r\\n\\r\\n\\r\\n\\r\\n\\r\\n\\r\\n\\r\\n</body>\\r\\n\\r\\n</html>'"
      ]
     },
     "execution_count": 43,
     "metadata": {},
     "output_type": "execute_result"
    }
   ],
   "source": [
    "html = res.text\n",
    "html"
   ]
  },
  {
   "cell_type": "code",
   "execution_count": 47,
   "metadata": {
    "ExecuteTime": {
     "end_time": "2023-12-20T18:58:10.159138Z",
     "start_time": "2023-12-20T18:58:10.139931Z"
    }
   },
   "outputs": [],
   "source": [
    "doc = nlp(\"Diljyot Singh is buying JSW steel for $35 billion\")"
   ]
  },
  {
   "cell_type": "code",
   "execution_count": 48,
   "metadata": {
    "ExecuteTime": {
     "end_time": "2023-12-20T18:58:11.758705Z",
     "start_time": "2023-12-20T18:58:11.747723Z"
    }
   },
   "outputs": [
    {
     "name": "stdout",
     "output_type": "stream",
     "text": [
      "Diljyot Singh - PERSON People, including fictional\n",
      "JSW - ORG Companies, agencies, institutions, etc.\n",
      "$35 billion - MONEY Monetary values, including unit\n"
     ]
    }
   ],
   "source": [
    "show_ents(doc)"
   ]
  },
  {
   "cell_type": "code",
   "execution_count": 49,
   "metadata": {
    "ExecuteTime": {
     "end_time": "2023-12-20T18:59:47.214531Z",
     "start_time": "2023-12-20T18:59:47.204552Z"
    }
   },
   "outputs": [],
   "source": [
    "from spacy.tokens import Span"
   ]
  },
  {
   "cell_type": "code",
   "execution_count": null,
   "metadata": {},
   "outputs": [],
   "source": [
    "ORG = doc.vocab.strings[]"
   ]
  }
 ],
 "metadata": {
  "kernelspec": {
   "display_name": "Python 3",
   "language": "python",
   "name": "python3"
  },
  "language_info": {
   "codemirror_mode": {
    "name": "ipython",
    "version": 3
   },
   "file_extension": ".py",
   "mimetype": "text/x-python",
   "name": "python",
   "nbconvert_exporter": "python",
   "pygments_lexer": "ipython3",
   "version": "3.7.6"
  }
 },
 "nbformat": 4,
 "nbformat_minor": 4
}
