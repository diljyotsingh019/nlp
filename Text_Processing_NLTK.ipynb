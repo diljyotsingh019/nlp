{
 "cells": [
  {
   "cell_type": "markdown",
   "metadata": {
    "colab_type": "text",
    "id": "2g0pXE4KCZ7C"
   },
   "source": [
    "# Processing a Text File stored in the Local Disk"
   ]
  },
  {
   "cell_type": "code",
   "execution_count": null,
   "metadata": {
    "colab": {},
    "colab_type": "code",
    "id": "5-poRRDleXrc"
   },
   "outputs": [],
   "source": [
    "# Install NLTK if not already installed...uncomment the next cell and run it.\n",
    "#! pip install nltk"
   ]
  },
  {
   "cell_type": "code",
   "execution_count": 13,
   "metadata": {
    "colab": {
     "base_uri": "https://localhost:8080/",
     "height": 68
    },
    "colab_type": "code",
    "id": "HMPz1FMrfFXA",
    "outputId": "b690fb46-2c53-4580-87d2-eeaab48f0ff5"
   },
   "outputs": [
    {
     "name": "stdout",
     "output_type": "stream",
     "text": [
      "[nltk_data] Downloading package punkt to /root/nltk_data...\n",
      "[nltk_data]   Package punkt is already up-to-date!\n"
     ]
    },
    {
     "data": {
      "text/plain": [
       "True"
      ]
     },
     "execution_count": 13,
     "metadata": {
      "tags": []
     },
     "output_type": "execute_result"
    }
   ],
   "source": [
    "import nltk\n",
    "nltk.download('punkt')"
   ]
  },
  {
   "cell_type": "markdown",
   "metadata": {
    "colab_type": "text",
    "id": "s9KkNTZegWcr"
   },
   "source": [
    "## Tokenize Text"
   ]
  },
  {
   "cell_type": "code",
   "execution_count": null,
   "metadata": {
    "colab": {},
    "colab_type": "code",
    "id": "xJlYAa5q8qSy"
   },
   "outputs": [],
   "source": [
    "# Word Tokenization\n",
    "from nltk.tokenize import word_tokenize"
   ]
  },
  {
   "cell_type": "code",
   "execution_count": 15,
   "metadata": {
    "colab": {
     "base_uri": "https://localhost:8080/",
     "height": 119
    },
    "colab_type": "code",
    "id": "WxQQmDoX7JE3",
    "outputId": "ed4da56a-2f4e-4a83-e309-3a2d9206d6f1"
   },
   "outputs": [
    {
     "name": "stdout",
     "output_type": "stream",
     "text": [
      "This is a NLTK test file.\n",
      "How are you India?\n",
      "Let's go green.\n",
      "Playing in the garden.\n",
      "Roaming in the breeze.\n",
      "Why is the child crying?\n"
     ]
    }
   ],
   "source": [
    "f = open('Test.txt', 'r')\n",
    "raw = f.read()\n",
    "print(raw)"
   ]
  },
  {
   "cell_type": "markdown",
   "metadata": {
    "colab_type": "text",
    "id": "PsdsQWS3fMwm"
   },
   "source": [
    "## Tokenize Sentence"
   ]
  },
  {
   "cell_type": "code",
   "execution_count": 16,
   "metadata": {
    "colab": {
     "base_uri": "https://localhost:8080/",
     "height": 54
    },
    "colab_type": "code",
    "id": "dKv5qsisfL58",
    "outputId": "59f517b5-595e-498c-ff8e-c23229a259c4"
   },
   "outputs": [
    {
     "name": "stdout",
     "output_type": "stream",
     "text": [
      "['This is a NLTK test file.', 'How are you India?', \"Let's go green.\", 'Playing in the garden.', 'Roaming in the breeze.', 'Why is the child crying?']\n"
     ]
    }
   ],
   "source": [
    "# Sentence Tokenization\n",
    "\n",
    "from nltk.tokenize import sent_tokenize\n",
    "\n",
    "text = \"Beauty lies in the eyes of the beholder. Do not open your eyes.\"\n",
    "print(sent_tokenize(raw))\n"
   ]
  },
  {
   "cell_type": "markdown",
   "metadata": {
    "colab_type": "text",
    "id": "28d_buc77pCN"
   },
   "source": [
    "## Process the File Line-by-Line -- Extract Words as Tokens"
   ]
  },
  {
   "cell_type": "code",
   "execution_count": 17,
   "metadata": {
    "colab": {
     "base_uri": "https://localhost:8080/",
     "height": 221
    },
    "colab_type": "code",
    "id": "8muu5JtI7y2_",
    "outputId": "89f272a8-373d-4cbf-86e5-3f947358cf93"
   },
   "outputs": [
    {
     "name": "stdout",
     "output_type": "stream",
     "text": [
      "This is a NLTK test file.\n",
      "['This', 'is', 'a', 'NLTK', 'test', 'file', '.']\n",
      "How are you India?\n",
      "['How', 'are', 'you', 'India', '?']\n",
      "Let's go green.\n",
      "['Let', \"'s\", 'go', 'green', '.']\n",
      "Playing in the garden.\n",
      "['Playing', 'in', 'the', 'garden', '.']\n",
      "Roaming in the breeze.\n",
      "['Roaming', 'in', 'the', 'breeze', '.']\n",
      "Why is the child crying?\n",
      "['Why', 'is', 'the', 'child', 'crying', '?']\n"
     ]
    }
   ],
   "source": [
    "f = open('Test.txt', 'r')\n",
    "\n",
    "for line in f:\n",
    " print (line.strip())\n",
    " list_of_words = word_tokenize(line)\n",
    " print(list_of_words)\n"
   ]
  },
  {
   "cell_type": "markdown",
   "metadata": {
    "colab_type": "text",
    "id": "o03UPpmZNGe-"
   },
   "source": [
    "## Split a String into a List of Words"
   ]
  },
  {
   "cell_type": "code",
   "execution_count": 18,
   "metadata": {
    "colab": {
     "base_uri": "https://localhost:8080/",
     "height": 34
    },
    "colab_type": "code",
    "id": "V8YL9XNyesxa",
    "outputId": "f5f0ec95-3e73-48be-ed7f-e2aa428f9789"
   },
   "outputs": [
    {
     "name": "stdout",
     "output_type": "stream",
     "text": [
      "After Split: ['learn', 'python', 'and', 'machine', 'learning', 'to', 'make', 'your', 'life', 'easy']\n"
     ]
    }
   ],
   "source": [
    "text =\"learn python and machine learning to make your life easy\".split()\n",
    "\n",
    "print(\"After Split:\",text)\n"
   ]
  },
  {
   "cell_type": "code",
   "execution_count": 19,
   "metadata": {
    "colab": {
     "base_uri": "https://localhost:8080/",
     "height": 68
    },
    "colab_type": "code",
    "id": "88rvTgns5F3w",
    "outputId": "95f0d6b0-3a81-431b-f3ea-a02a26e0d6d7"
   },
   "outputs": [
    {
     "name": "stdout",
     "output_type": "stream",
     "text": [
      "[nltk_data] Downloading package wordnet to /root/nltk_data...\n",
      "[nltk_data]   Package wordnet is already up-to-date!\n"
     ]
    },
    {
     "data": {
      "text/plain": [
       "True"
      ]
     },
     "execution_count": 19,
     "metadata": {
      "tags": []
     },
     "output_type": "execute_result"
    }
   ],
   "source": [
    "nltk.download('wordnet')"
   ]
  },
  {
   "cell_type": "code",
   "execution_count": 20,
   "metadata": {
    "colab": {
     "base_uri": "https://localhost:8080/",
     "height": 102
    },
    "colab_type": "code",
    "id": "QzxgUs7C5wSs",
    "outputId": "3e62976f-fc2b-4725-cbcf-72aac08d6566"
   },
   "outputs": [
    {
     "name": "stdout",
     "output_type": "stream",
     "text": [
      "[nltk_data] Downloading package averaged_perceptron_tagger to\n",
      "[nltk_data]     /root/nltk_data...\n",
      "[nltk_data]   Package averaged_perceptron_tagger is already up-to-\n",
      "[nltk_data]       date!\n"
     ]
    },
    {
     "data": {
      "text/plain": [
       "True"
      ]
     },
     "execution_count": 20,
     "metadata": {
      "tags": []
     },
     "output_type": "execute_result"
    }
   ],
   "source": [
    "nltk.download('averaged_perceptron_tagger')"
   ]
  },
  {
   "cell_type": "markdown",
   "metadata": {
    "colab_type": "text",
    "id": "yfwLqPBZ-2C8"
   },
   "source": [
    "## Applying Lemmatization on the words extracted from the Text file"
   ]
  },
  {
   "cell_type": "code",
   "execution_count": null,
   "metadata": {
    "colab": {},
    "colab_type": "code",
    "id": "v8xL3z1S4mxA"
   },
   "outputs": [],
   "source": [
    "#from nltk.corpus import wordnet as wn\n",
    "from nltk.stem.wordnet import WordNetLemmatizer\n",
    "from nltk import word_tokenize\n"
   ]
  },
  {
   "cell_type": "code",
   "execution_count": 22,
   "metadata": {
    "colab": {
     "base_uri": "https://localhost:8080/",
     "height": 1000
    },
    "colab_type": "code",
    "id": "TkKYGhpX5Vrc",
    "outputId": "45862124-e10d-4103-f8b4-0866ebe16192"
   },
   "outputs": [
    {
     "name": "stdout",
     "output_type": "stream",
     "text": [
      "This => This \n",
      "\n",
      "is => is \n",
      "\n",
      "a => a \n",
      "\n",
      "NLTK => NLTK \n",
      "\n",
      "test => test \n",
      "\n",
      "file => file \n",
      "\n",
      ". => . \n",
      "\n",
      "How => How \n",
      "\n",
      "are => are \n",
      "\n",
      "you => you \n",
      "\n",
      "India => India \n",
      "\n",
      "? => ? \n",
      "\n",
      "Let => Let \n",
      "\n",
      "'s => 's \n",
      "\n",
      "go => go \n",
      "\n",
      "green => green \n",
      "\n",
      ". => . \n",
      "\n",
      "Playing => Playing \n",
      "\n",
      "in => in \n",
      "\n",
      "the => the \n",
      "\n",
      "garden => garden \n",
      "\n",
      ". => . \n",
      "\n",
      "Roaming => Roaming \n",
      "\n",
      "in => in \n",
      "\n",
      "the => the \n",
      "\n",
      "breeze => breeze \n",
      "\n",
      ". => . \n",
      "\n",
      "Why => Why \n",
      "\n",
      "is => is \n",
      "\n",
      "the => the \n",
      "\n",
      "child => child \n",
      "\n",
      "crying => cry \n",
      "\n",
      "? => ? \n",
      "\n",
      "[('This', 'DT'), ('is', 'VBZ'), ('a', 'DT'), ('NLTK', 'JJ'), ('test', 'NN'), ('file', 'NN'), ('.', '.'), ('How', 'WRB'), ('are', 'VBP'), ('you', 'PRP'), ('India', 'NNP'), ('?', '.'), ('Let', 'NNP'), (\"'s\", 'POS'), ('go', 'VB'), ('green', 'JJ'), ('.', '.'), ('Playing', 'VBG'), ('in', 'IN'), ('the', 'DT'), ('garden', 'NN'), ('.', '.'), ('Roaming', 'VBG'), ('in', 'IN'), ('the', 'DT'), ('breeze', 'NN'), ('.', '.'), ('Why', 'WRB'), ('is', 'VBZ'), ('the', 'DT'), ('child', 'NN'), ('crying', 'NN'), ('?', '.')]\n"
     ]
    }
   ],
   "source": [
    "\n",
    "tokens = word_tokenize(raw)\n",
    "lemma_function = WordNetLemmatizer()\n",
    "\n",
    "for token in tokens:\n",
    "\tlemma = lemma_function.lemmatize(token)\n",
    "\tprint(token, \"=>\", lemma, \"\\n\")\n",
    "\n",
    "   "
   ]
  },
  {
   "cell_type": "markdown",
   "metadata": {
    "colab_type": "text",
    "id": "OU2mQN5KCIun"
   },
   "source": [
    "## POS Tagging to all the Tokens"
   ]
  },
  {
   "cell_type": "code",
   "execution_count": 23,
   "metadata": {
    "colab": {
     "base_uri": "https://localhost:8080/",
     "height": 54
    },
    "colab_type": "code",
    "id": "sYJs7GkdCHUL",
    "outputId": "4e06244e-e447-494d-db01-0bc839b2bb8e"
   },
   "outputs": [
    {
     "name": "stdout",
     "output_type": "stream",
     "text": [
      "[('This', 'DT'), ('is', 'VBZ'), ('a', 'DT'), ('NLTK', 'JJ'), ('test', 'NN'), ('file', 'NN'), ('.', '.'), ('How', 'WRB'), ('are', 'VBP'), ('you', 'PRP'), ('India', 'NNP'), ('?', '.'), ('Let', 'NNP'), (\"'s\", 'POS'), ('go', 'VB'), ('green', 'JJ'), ('.', '.'), ('Playing', 'VBG'), ('in', 'IN'), ('the', 'DT'), ('garden', 'NN'), ('.', '.'), ('Roaming', 'VBG'), ('in', 'IN'), ('the', 'DT'), ('breeze', 'NN'), ('.', '.'), ('Why', 'WRB'), ('is', 'VBZ'), ('the', 'DT'), ('child', 'NN'), ('crying', 'NN'), ('?', '.')]\n"
     ]
    }
   ],
   "source": [
    "from nltk import pos_tag\n",
    "print(pos_tag(tokens))\n"
   ]
  },
  {
   "cell_type": "markdown",
   "metadata": {
    "colab_type": "text",
    "id": "PGcPdKC8DW0d"
   },
   "source": [
    "# Wordnet\n",
    "\n",
    "Wordnet is an NLTK corpus reader, a lexical database for English. It can be used to find the meaning of words, synonym or antonym. One can define it as a semantically oriented dictionary of English."
   ]
  },
  {
   "cell_type": "code",
   "execution_count": 28,
   "metadata": {
    "colab": {
     "base_uri": "https://localhost:8080/",
     "height": 71
    },
    "colab_type": "code",
    "id": "-f9eposmDYfa",
    "outputId": "0f16a75a-c079-466d-cae8-8d8d3c888a35"
   },
   "outputs": [
    {
     "name": "stdout",
     "output_type": "stream",
     "text": [
      "{'intelligence_activity', 'intelligence_service', 'intelligence', 'intelligence_information', 'intelligence_agency', 'intelligence_operation', 'word', 'news', 'tidings'}\n",
      "{'stupidity'}\n"
     ]
    }
   ],
   "source": [
    "from nltk.corpus import wordnet\n",
    "\n",
    "synonyms = []\n",
    "antonyms = []\n",
    "\n",
    "for syn in wordnet.synsets(\"intelligence\"):\n",
    " for l in syn.lemmas():\n",
    "  synonyms.append(l.name())\n",
    "  if l.antonyms():\n",
    "   antonyms.append(l.antonyms()[0].name())\n",
    "\n",
    "print(set(synonyms))\n",
    "print(set(antonyms))"
   ]
  },
  {
   "cell_type": "markdown",
   "metadata": {
    "colab_type": "text",
    "id": "mGeKMlrKF_jH"
   },
   "source": [
    "## Count the Occurrences of the words"
   ]
  },
  {
   "cell_type": "code",
   "execution_count": 34,
   "metadata": {
    "colab": {
     "base_uri": "https://localhost:8080/",
     "height": 54
    },
    "colab_type": "code",
    "id": "bGIPF68mFpX7",
    "outputId": "9f9eab19-f603-4c00-980c-3318e7d56bbb"
   },
   "outputs": [
    {
     "name": "stdout",
     "output_type": "stream",
     "text": [
      "Counter({'NN': 5, 'IN': 4, 'JJ': 3, 'NNS': 3, '.': 3, 'PRP': 3, 'VBZ': 2, 'DT': 2, 'VBG': 2, 'RB': 2, 'VBN': 1, 'CC': 1, 'VBP': 1})\n"
     ]
    }
   ],
   "source": [
    "from collections import Counter\n",
    "\n",
    "text = \"NLTK is a great toolbox for experimenting with natural language processing tasks. It is widely used by many researchers and programmers across the world. We are also using it.\"\n",
    "\n",
    "lower_case = text.lower()\n",
    "\n",
    "tokens = nltk.word_tokenize(lower_case)\n",
    "\n",
    "tags = nltk.pos_tag(tokens)\n",
    "\n",
    "counts = Counter( tag for word,  tag in tags)\n",
    "\n",
    "print(counts)"
   ]
  },
  {
   "cell_type": "markdown",
   "metadata": {
    "colab_type": "text",
    "id": "Rj_z78KXGEfS"
   },
   "source": [
    "## Frequency Distribution of the Words"
   ]
  },
  {
   "cell_type": "code",
   "execution_count": 35,
   "metadata": {
    "colab": {
     "base_uri": "https://localhost:8080/",
     "height": 346
    },
    "colab_type": "code",
    "id": "bPqhGDBZF8FL",
    "outputId": "99d4beb7-a8d7-4967-d324-6f5dab492c86"
   },
   "outputs": [
    {
     "data": {
      "image/png": "[encoded data removed]",
      "text/plain": [
       "<Figure size 432x288 with 1 Axes>"
      ]
     },
     "metadata": {
      "tags": []
     },
     "output_type": "display_data"
    }
   ],
   "source": [
    "words = nltk.tokenize.word_tokenize(text)\n",
    "fd = nltk.FreqDist(words)\n",
    "fd.plot()"
   ]
  }
 ],
 "metadata": {
  "accelerator": "GPU",
  "colab": {
   "collapsed_sections": [],
   "name": "Text-Processing-NLTK.ipynb",
   "provenance": [],
   "toc_visible": true
  },
  "kernelspec": {
   "display_name": "Python 3",
   "language": "python",
   "name": "python3"
  },
  "language_info": {
   "codemirror_mode": {
    "name": "ipython",
    "version": 3
   },
   "file_extension": ".py",
   "mimetype": "text/x-python",
   "name": "python",
   "nbconvert_exporter": "python",
   "pygments_lexer": "ipython3",
   "version": "3.7.6"
  }
 },
 "nbformat": 4,
 "nbformat_minor": 4
}
