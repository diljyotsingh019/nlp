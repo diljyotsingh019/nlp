{
 "cells": [
  {
   "cell_type": "markdown",
   "metadata": {
    "colab_type": "text",
    "id": "s9KkNTZegWcr"
   },
   "source": [
    "# Stop Words \n",
    "\n",
    "Stop words are generally the most common words used in a language. Stop words are words which are filtered out before processing of natural language data. \n"
   ]
  },
  {
   "cell_type": "code",
   "execution_count": 0,
   "metadata": {
    "colab": {},
    "colab_type": "code",
    "id": "5-poRRDleXrc"
   },
   "outputs": [],
   "source": [
    "# Install NLTK if not already installed...uncomment the next line and run it.\n",
    "#! pip install nltk"
   ]
  },
  {
   "cell_type": "code",
   "execution_count": 3,
   "metadata": {
    "colab": {
     "base_uri": "https://localhost:8080/",
     "height": 68
    },
    "colab_type": "code",
    "id": "HMPz1FMrfFXA",
    "outputId": "fb2fef7a-28c9-436a-cf63-3caecdd62eb0"
   },
   "outputs": [
    {
     "name": "stdout",
     "output_type": "stream",
     "text": [
      "[nltk_data] Downloading package punkt to /root/nltk_data...\n",
      "[nltk_data]   Unzipping tokenizers/punkt.zip.\n"
     ]
    },
    {
     "data": {
      "text/plain": [
       "True"
      ]
     },
     "execution_count": 3,
     "metadata": {
      "tags": []
     },
     "output_type": "execute_result"
    }
   ],
   "source": [
    "import nltk\n",
    "nltk.download('punkt')"
   ]
  },
  {
   "cell_type": "code",
   "execution_count": 5,
   "metadata": {
    "colab": {
     "base_uri": "https://localhost:8080/",
     "height": 68
    },
    "colab_type": "code",
    "id": "SQd1CJWEk1S5",
    "outputId": "c98c1ab0-69b2-43e5-ec91-e7b22261cd50"
   },
   "outputs": [
    {
     "name": "stdout",
     "output_type": "stream",
     "text": [
      "[nltk_data] Downloading package stopwords to /root/nltk_data...\n",
      "[nltk_data]   Unzipping corpora/stopwords.zip.\n"
     ]
    },
    {
     "data": {
      "text/plain": [
       "True"
      ]
     },
     "execution_count": 5,
     "metadata": {
      "tags": []
     },
     "output_type": "execute_result"
    }
   ],
   "source": [
    "nltk.download('stopwords')"
   ]
  },
  {
   "cell_type": "markdown",
   "metadata": {
    "colab_type": "text",
    "id": "sE3dPw41k-D8"
   },
   "source": [
    "## Common English Stop Words Defined in NLTK"
   ]
  },
  {
   "cell_type": "code",
   "execution_count": 8,
   "metadata": {
    "colab": {
     "base_uri": "https://localhost:8080/",
     "height": 54
    },
    "colab_type": "code",
    "id": "_VXmsUdQkusG",
    "outputId": "0272ae6c-3bee-4fd0-9b0a-8eca746828da"
   },
   "outputs": [
    {
     "name": "stdout",
     "output_type": "stream",
     "text": [
      "{'from', 'aren', 'my', 'yourselves', 'itself', 'can', 'weren', 'mightn', \"hasn't\", \"it's\", \"isn't\", 'have', 'm', 'yourself', 'same', 's', 'isn', 'myself', 'were', \"don't\", 'a', 'by', 'own', 'no', 'of', 'such', 'most', 'under', 'through', 'out', 'some', 'so', \"that'll\", 'into', 'ma', 'y', \"couldn't\", 'why', 'these', 'while', 'more', 'couldn', 'didn', 'shouldn', 'her', 'whom', 'where', 'but', \"mightn't\", \"should've\", \"shan't\", \"didn't\", 'ours', 'both', 'below', 'off', 'which', 'wasn', \"weren't\", 'is', 've', 'there', 'doing', 'hers', \"doesn't\", 'your', \"shouldn't\", \"you'd\", \"you've\", 'had', 'their', 'them', 'an', 'just', 'other', 'be', \"you're\", 'as', 'being', 'further', 'only', 'don', \"she's\", 'theirs', 'should', 'its', 'themselves', 'ain', 'over', 'few', 'our', 'those', 'hadn', 'll', 'd', 'for', 'too', 'won', 'the', 'during', 'against', 'nor', 'wouldn', 'again', 'are', 'will', \"hadn't\", 'in', 'now', 'o', 'they', 'herself', 'after', 'once', 'on', 'him', 'ourselves', 'than', 'down', 'how', 'having', 'do', 'shan', 'above', 'mustn', 'when', 'she', 'it', 't', 'we', \"aren't\", 'this', 'been', 'himself', 'has', 'until', 'am', 'before', 'did', 'what', 'with', 'doesn', \"wouldn't\", 'very', 'about', \"won't\", 'at', 'not', 'i', 'and', 'because', 'that', 'yours', 'all', \"haven't\", \"wasn't\", \"needn't\", \"you'll\", 'to', 'or', 'was', 'then', 're', 'up', 'needn', 'you', 'here', 'his', 'he', 'does', 'if', 'any', 'hasn', 'haven', 'between', \"mustn't\", 'me', 'who', 'each'}\n"
     ]
    }
   ],
   "source": [
    "from nltk.corpus import stopwords\n",
    "\n",
    "# Finding stop words from English sentences\n",
    "stop_words=set(stopwords.words(\"english\"))\n",
    "print(stop_words)"
   ]
  },
  {
   "cell_type": "markdown",
   "metadata": {
    "colab_type": "text",
    "id": "4uviosf-fQN8"
   },
   "source": [
    "## Removal of Stop Words\n",
    "\n",
    "Removing all the stop words from a given sentence."
   ]
  },
  {
   "cell_type": "code",
   "execution_count": 9,
   "metadata": {
    "colab": {
     "base_uri": "https://localhost:8080/",
     "height": 34
    },
    "colab_type": "code",
    "id": "J8_R5C84kbey",
    "outputId": "5b0cfd03-f15a-47ad-b005-2569b5c36322"
   },
   "outputs": [
    {
     "name": "stdout",
     "output_type": "stream",
     "text": [
      "['This', 'example', 'showing', 'stop', 'words', 'filtration']\n"
     ]
    }
   ],
   "source": [
    "\n",
    "example_sentence=\"This is an example showing off stop words filtration\"\n",
    "\n",
    "from nltk.tokenize import word_tokenize\n",
    "\n",
    "words=word_tokenize(example_sentence)\n",
    "\n",
    "filtered_sentence=[]\n",
    "\n",
    "for w in words:\n",
    "    if w not in stop_words:\n",
    "        filtered_sentence.append(w)\n",
    "\n",
    "print(filtered_sentence)\n"
   ]
  },
  {
   "cell_type": "markdown",
   "metadata": {
    "colab_type": "text",
    "id": "-oPWvFjcC7Vn"
   },
   "source": [
    "## Build a List of Custom Stop-words"
   ]
  },
  {
   "cell_type": "code",
   "execution_count": 12,
   "metadata": {
    "colab": {
     "base_uri": "https://localhost:8080/",
     "height": 34
    },
    "colab_type": "code",
    "id": "1L6HDx5PC-uQ",
    "outputId": "3b61d555-8e34-43f9-b514-8743e818eb36"
   },
   "outputs": [
    {
     "name": "stdout",
     "output_type": "stream",
     "text": [
      "['a', 'sunglass', 'is', 'enough', '.', 'this', 'is', 'important', 'to', 'carry', 'umbrella', 'on', 'hot', 'summer', 'days', '.']\n"
     ]
    }
   ],
   "source": [
    "# Define the list of custom stop-words\n",
    "my_stop_words = ['having' , 'very', 'not' , 'your']\n",
    "\n",
    "\n",
    "example_sentence = 'Having a sunglass is not enough. This is very important to carry your umbrella on hot summer days.'\n",
    "\n",
    "# Convert the string to lower-case\n",
    "example_sentence = example_sentence.lower()\n",
    "\n",
    "# Tokenize to get the list of words\n",
    "words=word_tokenize(example_sentence)\n",
    "\n",
    "filtered_sentence=[]\n",
    "\n",
    "for w in words:\n",
    "    if w not in my_stop_words:\n",
    "        filtered_sentence.append(w)\n",
    "\n",
    "print(filtered_sentence)\n",
    "\n"
   ]
  }
 ],
 "metadata": {
  "accelerator": "GPU",
  "colab": {
   "collapsed_sections": [],
   "name": "Stop-words-Removal.ipynb",
   "provenance": []
  },
  "kernelspec": {
   "display_name": "Python 3",
   "language": "python",
   "name": "python3"
  },
  "language_info": {
   "codemirror_mode": {
    "name": "ipython",
    "version": 3
   },
   "file_extension": ".py",
   "mimetype": "text/x-python",
   "name": "python",
   "nbconvert_exporter": "python",
   "pygments_lexer": "ipython3",
   "version": "3.8.1"
  }
 },
 "nbformat": 4,
 "nbformat_minor": 1
}
