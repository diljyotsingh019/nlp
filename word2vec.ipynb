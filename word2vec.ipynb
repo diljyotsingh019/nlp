{
 "cells": [
  {
   "cell_type": "code",
   "execution_count": 2,
   "id": "younger-venezuela",
   "metadata": {},
   "outputs": [],
   "source": [
    "import nltk\n",
    "from gensim.models import Word2Vec\n",
    "from nltk.corpus import stopwords\n",
    "import re"
   ]
  },
  {
   "cell_type": "code",
   "execution_count": 3,
   "id": "allied-illness",
   "metadata": {},
   "outputs": [],
   "source": [
    "paragraph = \"\"\"I have three visions for India. In 3000 years of our history, people from all over \n",
    "               the world have come and invaded us, captured our lands, conquered our minds. \n",
    "               From Alexander onwards, the Greeks, the Turks, the Moguls, the Portuguese, the British,\n",
    "               the French, the Dutch, all of them came and looted us, took over what was ours. \n",
    "               Yet we have not done this to any other nation. We have not conquered anyone. \n",
    "               We have not grabbed their land, their culture, \n",
    "               their history and tried to enforce our way of life on them. \n",
    "               Why? Because we respect the freedom of others.That is why my \n",
    "               first vision is that of freedom. I believe that India got its first vision of \n",
    "               this in 1857, when we started the War of Independence. It is this freedom that\n",
    "               we must protect and nurture and build on. If we are not free, no one will respect us.\n",
    "               My second vision for India’s development. For fifty years we have been a developing nation.\n",
    "               It is time we see ourselves as a developed nation. We are among the top 5 nations of the world\n",
    "               in terms of GDP. We have a 10 percent growth rate in most areas. Our poverty levels are falling.\n",
    "               Our achievements are being globally recognised today. Yet we lack the self-confidence to\n",
    "               see ourselves as a developed nation, self-reliant and self-assured. Isn’t this incorrect?\n",
    "               I have a third vision. India must stand up to the world. Because I believe that unless India \n",
    "               stands up to the world, no one will respect us. Only strength respects strength. We must be \n",
    "               strong not only as a military power but also as an economic power. Both must go hand-in-hand. \n",
    "               My good fortune was to have worked with three great minds. Dr. Vikram Sarabhai of the Dept. of \n",
    "               space, Professor Satish Dhawan, who succeeded him and Dr. Brahm Prakash, father of nuclear material.\n",
    "               I was lucky to have worked with all three of them closely and consider this the great opportunity of my life. \n",
    "               I see four milestones in my career\"\"\""
   ]
  },
  {
   "cell_type": "code",
   "execution_count": 4,
   "id": "commercial-movement",
   "metadata": {},
   "outputs": [],
   "source": [
    "# Preprocessing the data\n",
    "text = re.sub(r'\\[[0-9]*\\]',' ',paragraph)\n",
    "text = re.sub(r'\\s+',' ',text)\n",
    "text = text.lower()\n",
    "text = re.sub(r'\\d',' ',text)\n",
    "text = re.sub(r'\\s+',' ',text)"
   ]
  },
  {
   "cell_type": "code",
   "execution_count": 5,
   "id": "prostate-theme",
   "metadata": {},
   "outputs": [
    {
     "data": {
      "text/plain": [
       "'i have three visions for india. in years of our history, people from all over the world have come and invaded us, captured our lands, conquered our minds. from alexander onwards, the greeks, the turks, the moguls, the portuguese, the british, the french, the dutch, all of them came and looted us, took over what was ours. yet we have not done this to any other nation. we have not conquered anyone. we have not grabbed their land, their culture, their history and tried to enforce our way of life on them. why? because we respect the freedom of others.that is why my first vision is that of freedom. i believe that india got its first vision of this in , when we started the war of independence. it is this freedom that we must protect and nurture and build on. if we are not free, no one will respect us. my second vision for india’s development. for fifty years we have been a developing nation. it is time we see ourselves as a developed nation. we are among the top nations of the world in terms of gdp. we have a percent growth rate in most areas. our poverty levels are falling. our achievements are being globally recognised today. yet we lack the self-confidence to see ourselves as a developed nation, self-reliant and self-assured. isn’t this incorrect? i have a third vision. india must stand up to the world. because i believe that unless india stands up to the world, no one will respect us. only strength respects strength. we must be strong not only as a military power but also as an economic power. both must go hand-in-hand. my good fortune was to have worked with three great minds. dr. vikram sarabhai of the dept. of space, professor satish dhawan, who succeeded him and dr. brahm prakash, father of nuclear material. i was lucky to have worked with all three of them closely and consider this the great opportunity of my life. i see four milestones in my career'"
      ]
     },
     "execution_count": 5,
     "metadata": {},
     "output_type": "execute_result"
    }
   ],
   "source": [
    "text"
   ]
  },
  {
   "cell_type": "code",
   "execution_count": 6,
   "id": "mounted-suggestion",
   "metadata": {},
   "outputs": [
    {
     "name": "stdout",
     "output_type": "stream",
     "text": [
      "['i have three visions for india.', 'in years of our history, people from all over the world have come and invaded us, captured our lands, conquered our minds.', 'from alexander onwards, the greeks, the turks, the moguls, the portuguese, the british, the french, the dutch, all of them came and looted us, took over what was ours.', 'yet we have not done this to any other nation.', 'we have not conquered anyone.', 'we have not grabbed their land, their culture, their history and tried to enforce our way of life on them.', 'why?', 'because we respect the freedom of others.that is why my first vision is that of freedom.', 'i believe that india got its first vision of this in , when we started the war of independence.', 'it is this freedom that we must protect and nurture and build on.', 'if we are not free, no one will respect us.', 'my second vision for india’s development.', 'for fifty years we have been a developing nation.', 'it is time we see ourselves as a developed nation.', 'we are among the top nations of the world in terms of gdp.', 'we have a percent growth rate in most areas.', 'our poverty levels are falling.', 'our achievements are being globally recognised today.', 'yet we lack the self-confidence to see ourselves as a developed nation, self-reliant and self-assured.', 'isn’t this incorrect?', 'i have a third vision.', 'india must stand up to the world.', 'because i believe that unless india stands up to the world, no one will respect us.', 'only strength respects strength.', 'we must be strong not only as a military power but also as an economic power.', 'both must go hand-in-hand.', 'my good fortune was to have worked with three great minds.', 'dr. vikram sarabhai of the dept.', 'of space, professor satish dhawan, who succeeded him and dr. brahm prakash, father of nuclear material.', 'i was lucky to have worked with all three of them closely and consider this the great opportunity of my life.', 'i see four milestones in my career']\n"
     ]
    }
   ],
   "source": [
    "# Preparing the dataset\n",
    "sentences = nltk.sent_tokenize(text)\n",
    "print(sentences)"
   ]
  },
  {
   "cell_type": "code",
   "execution_count": 7,
   "id": "verbal-spice",
   "metadata": {},
   "outputs": [
    {
     "name": "stdout",
     "output_type": "stream",
     "text": [
      "[['i', 'have', 'three', 'visions', 'for', 'india', '.'], ['in', 'years', 'of', 'our', 'history', ',', 'people', 'from', 'all', 'over', 'the', 'world', 'have', 'come', 'and', 'invaded', 'us', ',', 'captured', 'our', 'lands', ',', 'conquered', 'our', 'minds', '.'], ['from', 'alexander', 'onwards', ',', 'the', 'greeks', ',', 'the', 'turks', ',', 'the', 'moguls', ',', 'the', 'portuguese', ',', 'the', 'british', ',', 'the', 'french', ',', 'the', 'dutch', ',', 'all', 'of', 'them', 'came', 'and', 'looted', 'us', ',', 'took', 'over', 'what', 'was', 'ours', '.'], ['yet', 'we', 'have', 'not', 'done', 'this', 'to', 'any', 'other', 'nation', '.'], ['we', 'have', 'not', 'conquered', 'anyone', '.'], ['we', 'have', 'not', 'grabbed', 'their', 'land', ',', 'their', 'culture', ',', 'their', 'history', 'and', 'tried', 'to', 'enforce', 'our', 'way', 'of', 'life', 'on', 'them', '.'], ['why', '?'], ['because', 'we', 'respect', 'the', 'freedom', 'of', 'others.that', 'is', 'why', 'my', 'first', 'vision', 'is', 'that', 'of', 'freedom', '.'], ['i', 'believe', 'that', 'india', 'got', 'its', 'first', 'vision', 'of', 'this', 'in', ',', 'when', 'we', 'started', 'the', 'war', 'of', 'independence', '.'], ['it', 'is', 'this', 'freedom', 'that', 'we', 'must', 'protect', 'and', 'nurture', 'and', 'build', 'on', '.'], ['if', 'we', 'are', 'not', 'free', ',', 'no', 'one', 'will', 'respect', 'us', '.'], ['my', 'second', 'vision', 'for', 'india', '’', 's', 'development', '.'], ['for', 'fifty', 'years', 'we', 'have', 'been', 'a', 'developing', 'nation', '.'], ['it', 'is', 'time', 'we', 'see', 'ourselves', 'as', 'a', 'developed', 'nation', '.'], ['we', 'are', 'among', 'the', 'top', 'nations', 'of', 'the', 'world', 'in', 'terms', 'of', 'gdp', '.'], ['we', 'have', 'a', 'percent', 'growth', 'rate', 'in', 'most', 'areas', '.'], ['our', 'poverty', 'levels', 'are', 'falling', '.'], ['our', 'achievements', 'are', 'being', 'globally', 'recognised', 'today', '.'], ['yet', 'we', 'lack', 'the', 'self-confidence', 'to', 'see', 'ourselves', 'as', 'a', 'developed', 'nation', ',', 'self-reliant', 'and', 'self-assured', '.'], ['isn', '’', 't', 'this', 'incorrect', '?'], ['i', 'have', 'a', 'third', 'vision', '.'], ['india', 'must', 'stand', 'up', 'to', 'the', 'world', '.'], ['because', 'i', 'believe', 'that', 'unless', 'india', 'stands', 'up', 'to', 'the', 'world', ',', 'no', 'one', 'will', 'respect', 'us', '.'], ['only', 'strength', 'respects', 'strength', '.'], ['we', 'must', 'be', 'strong', 'not', 'only', 'as', 'a', 'military', 'power', 'but', 'also', 'as', 'an', 'economic', 'power', '.'], ['both', 'must', 'go', 'hand-in-hand', '.'], ['my', 'good', 'fortune', 'was', 'to', 'have', 'worked', 'with', 'three', 'great', 'minds', '.'], ['dr.', 'vikram', 'sarabhai', 'of', 'the', 'dept', '.'], ['of', 'space', ',', 'professor', 'satish', 'dhawan', ',', 'who', 'succeeded', 'him', 'and', 'dr.', 'brahm', 'prakash', ',', 'father', 'of', 'nuclear', 'material', '.'], ['i', 'was', 'lucky', 'to', 'have', 'worked', 'with', 'all', 'three', 'of', 'them', 'closely', 'and', 'consider', 'this', 'the', 'great', 'opportunity', 'of', 'my', 'life', '.'], ['i', 'see', 'four', 'milestones', 'in', 'my', 'career']]\n"
     ]
    }
   ],
   "source": [
    "sentences = [nltk.word_tokenize(sentence) for sentence in sentences]\n",
    "print(sentences)"
   ]
  },
  {
   "cell_type": "code",
   "execution_count": 8,
   "id": "successful-reynolds",
   "metadata": {},
   "outputs": [
    {
     "name": "stdout",
     "output_type": "stream",
     "text": [
      "[['three', 'visions', 'india', '.'], ['years', 'history', ',', 'people', 'world', 'come', 'invaded', 'us', ',', 'captured', 'lands', ',', 'conquered', 'minds', '.'], ['alexander', 'onwards', ',', 'greeks', ',', 'turks', ',', 'moguls', ',', 'portuguese', ',', 'british', ',', 'french', ',', 'dutch', ',', 'came', 'looted', 'us', ',', 'took', '.'], ['yet', 'done', 'nation', '.'], ['conquered', 'anyone', '.'], ['grabbed', 'land', ',', 'culture', ',', 'history', 'tried', 'enforce', 'way', 'life', '.'], ['?'], ['respect', 'freedom', 'others.that', 'first', 'vision', 'freedom', '.'], ['believe', 'india', 'got', 'first', 'vision', ',', 'started', 'war', 'independence', '.'], ['freedom', 'must', 'protect', 'nurture', 'build', '.'], ['free', ',', 'one', 'respect', 'us', '.'], ['second', 'vision', 'india', '’', 'development', '.'], ['fifty', 'years', 'developing', 'nation', '.'], ['time', 'see', 'developed', 'nation', '.'], ['among', 'top', 'nations', 'world', 'terms', 'gdp', '.'], ['percent', 'growth', 'rate', 'areas', '.'], ['poverty', 'levels', 'falling', '.'], ['achievements', 'globally', 'recognised', 'today', '.'], ['yet', 'lack', 'self-confidence', 'see', 'developed', 'nation', ',', 'self-reliant', 'self-assured', '.'], ['’', 'incorrect', '?'], ['third', 'vision', '.'], ['india', 'must', 'stand', 'world', '.'], ['believe', 'unless', 'india', 'stands', 'world', ',', 'one', 'respect', 'us', '.'], ['strength', 'respects', 'strength', '.'], ['must', 'strong', 'military', 'power', 'also', 'economic', 'power', '.'], ['must', 'go', 'hand-in-hand', '.'], ['good', 'fortune', 'worked', 'three', 'great', 'minds', '.'], ['dr.', 'vikram', 'sarabhai', 'dept', '.'], ['space', ',', 'professor', 'satish', 'dhawan', ',', 'succeeded', 'dr.', 'brahm', 'prakash', ',', 'father', 'nuclear', 'material', '.'], ['lucky', 'worked', 'three', 'closely', 'consider', 'great', 'opportunity', 'life', '.'], ['see', 'four', 'milestones', 'career']]\n"
     ]
    }
   ],
   "source": [
    "for i in range(len(sentences)):\n",
    "    sentences[i] = [word for word in sentences[i] if word not in stopwords.words('english')]\n",
    "\n",
    "print(sentences)"
   ]
  },
  {
   "cell_type": "code",
   "execution_count": 9,
   "id": "arbitrary-candy",
   "metadata": {},
   "outputs": [],
   "source": [
    "# Training the Word2Vec model\n",
    "model = Word2Vec(sentences, min_count=1)"
   ]
  },
  {
   "cell_type": "code",
   "execution_count": 10,
   "id": "roman-pleasure",
   "metadata": {},
   "outputs": [
    {
     "data": {
      "text/plain": [
       "<gensim.models.word2vec.Word2Vec at 0x1e7ab982d08>"
      ]
     },
     "execution_count": 10,
     "metadata": {},
     "output_type": "execute_result"
    }
   ],
   "source": [
    "model"
   ]
  },
  {
   "cell_type": "code",
   "execution_count": 11,
   "id": "immune-uniform",
   "metadata": {},
   "outputs": [],
   "source": [
    "words = model.wv.vocab\n"
   ]
  },
  {
   "cell_type": "code",
   "execution_count": 18,
   "id": "expanded-allocation",
   "metadata": {},
   "outputs": [
    {
     "data": {
      "text/plain": [
       "{'three': <gensim.models.keyedvectors.Vocab at 0x1e7ab987b08>,\n",
       " 'visions': <gensim.models.keyedvectors.Vocab at 0x1e7ab75db48>,\n",
       " 'india': <gensim.models.keyedvectors.Vocab at 0x1e7ab97fdc8>,\n",
       " '.': <gensim.models.keyedvectors.Vocab at 0x1e7ab957848>,\n",
       " 'years': <gensim.models.keyedvectors.Vocab at 0x1e7a8779288>,\n",
       " 'history': <gensim.models.keyedvectors.Vocab at 0x1e7ab925f08>,\n",
       " ',': <gensim.models.keyedvectors.Vocab at 0x1e7ab925088>,\n",
       " 'people': <gensim.models.keyedvectors.Vocab at 0x1e7ab916dc8>,\n",
       " 'world': <gensim.models.keyedvectors.Vocab at 0x1e7ab963fc8>,\n",
       " 'come': <gensim.models.keyedvectors.Vocab at 0x1e7ab925348>,\n",
       " 'invaded': <gensim.models.keyedvectors.Vocab at 0x1e7ab9169c8>,\n",
       " 'us': <gensim.models.keyedvectors.Vocab at 0x1e7ab916788>,\n",
       " 'captured': <gensim.models.keyedvectors.Vocab at 0x1e7ab9667c8>,\n",
       " 'lands': <gensim.models.keyedvectors.Vocab at 0x1e7ab966548>,\n",
       " 'conquered': <gensim.models.keyedvectors.Vocab at 0x1e7ab966608>,\n",
       " 'minds': <gensim.models.keyedvectors.Vocab at 0x1e7ab9668c8>,\n",
       " 'alexander': <gensim.models.keyedvectors.Vocab at 0x1e7ab966248>,\n",
       " 'onwards': <gensim.models.keyedvectors.Vocab at 0x1e7ab944cc8>,\n",
       " 'greeks': <gensim.models.keyedvectors.Vocab at 0x1e7ab944c08>,\n",
       " 'turks': <gensim.models.keyedvectors.Vocab at 0x1e7ab95a6c8>,\n",
       " 'moguls': <gensim.models.keyedvectors.Vocab at 0x1e7ab95a2c8>,\n",
       " 'portuguese': <gensim.models.keyedvectors.Vocab at 0x1e7ab974ec8>,\n",
       " 'british': <gensim.models.keyedvectors.Vocab at 0x1e7ab974688>,\n",
       " 'french': <gensim.models.keyedvectors.Vocab at 0x1e7ab974748>,\n",
       " 'dutch': <gensim.models.keyedvectors.Vocab at 0x1e7ab974e48>,\n",
       " 'came': <gensim.models.keyedvectors.Vocab at 0x1e7ab974e08>,\n",
       " 'looted': <gensim.models.keyedvectors.Vocab at 0x1e7ab974fc8>,\n",
       " 'took': <gensim.models.keyedvectors.Vocab at 0x1e7ab974a88>,\n",
       " 'yet': <gensim.models.keyedvectors.Vocab at 0x1e7ab974f88>,\n",
       " 'done': <gensim.models.keyedvectors.Vocab at 0x1e7ab974608>,\n",
       " 'nation': <gensim.models.keyedvectors.Vocab at 0x1e7ab6da7c8>,\n",
       " 'anyone': <gensim.models.keyedvectors.Vocab at 0x1e7ab6da588>,\n",
       " 'grabbed': <gensim.models.keyedvectors.Vocab at 0x1e7ab6dad08>,\n",
       " 'land': <gensim.models.keyedvectors.Vocab at 0x1e7ab6da508>,\n",
       " 'culture': <gensim.models.keyedvectors.Vocab at 0x1e7ab6da5c8>,\n",
       " 'tried': <gensim.models.keyedvectors.Vocab at 0x1e7ab6dae08>,\n",
       " 'enforce': <gensim.models.keyedvectors.Vocab at 0x1e7ab6dad48>,\n",
       " 'way': <gensim.models.keyedvectors.Vocab at 0x1e7ab6dac88>,\n",
       " 'life': <gensim.models.keyedvectors.Vocab at 0x1e7ab6dad88>,\n",
       " '?': <gensim.models.keyedvectors.Vocab at 0x1e7ab6da888>,\n",
       " 'respect': <gensim.models.keyedvectors.Vocab at 0x1e7ab6dae88>,\n",
       " 'freedom': <gensim.models.keyedvectors.Vocab at 0x1e7ab952a08>,\n",
       " 'others.that': <gensim.models.keyedvectors.Vocab at 0x1e7ab952ac8>,\n",
       " 'first': <gensim.models.keyedvectors.Vocab at 0x1e7ab9528c8>,\n",
       " 'vision': <gensim.models.keyedvectors.Vocab at 0x1e7ab938c48>,\n",
       " 'believe': <gensim.models.keyedvectors.Vocab at 0x1e7ab938d48>,\n",
       " 'got': <gensim.models.keyedvectors.Vocab at 0x1e7ab938e48>,\n",
       " 'started': <gensim.models.keyedvectors.Vocab at 0x1e7ab91e688>,\n",
       " 'war': <gensim.models.keyedvectors.Vocab at 0x1e7ab91e808>,\n",
       " 'independence': <gensim.models.keyedvectors.Vocab at 0x1e7ab91e0c8>,\n",
       " 'must': <gensim.models.keyedvectors.Vocab at 0x1e7ab950088>,\n",
       " 'protect': <gensim.models.keyedvectors.Vocab at 0x1e7ab950488>,\n",
       " 'nurture': <gensim.models.keyedvectors.Vocab at 0x1e7ab950608>,\n",
       " 'build': <gensim.models.keyedvectors.Vocab at 0x1e7ab9503c8>,\n",
       " 'free': <gensim.models.keyedvectors.Vocab at 0x1e7ab76aec8>,\n",
       " 'one': <gensim.models.keyedvectors.Vocab at 0x1e7ab76ae48>,\n",
       " 'second': <gensim.models.keyedvectors.Vocab at 0x1e7ab76ad88>,\n",
       " '’': <gensim.models.keyedvectors.Vocab at 0x1e7ab76a888>,\n",
       " 'development': <gensim.models.keyedvectors.Vocab at 0x1e7ab76ab08>,\n",
       " 'fifty': <gensim.models.keyedvectors.Vocab at 0x1e7ab76ad08>,\n",
       " 'developing': <gensim.models.keyedvectors.Vocab at 0x1e7ab76a908>,\n",
       " 'time': <gensim.models.keyedvectors.Vocab at 0x1e7ab76adc8>,\n",
       " 'see': <gensim.models.keyedvectors.Vocab at 0x1e7ab76af48>,\n",
       " 'developed': <gensim.models.keyedvectors.Vocab at 0x1e7ab8dfa88>,\n",
       " 'among': <gensim.models.keyedvectors.Vocab at 0x1e7ab8df6c8>,\n",
       " 'top': <gensim.models.keyedvectors.Vocab at 0x1e7ab8df448>,\n",
       " 'nations': <gensim.models.keyedvectors.Vocab at 0x1e7ab8df388>,\n",
       " 'terms': <gensim.models.keyedvectors.Vocab at 0x1e7ab8df808>,\n",
       " 'gdp': <gensim.models.keyedvectors.Vocab at 0x1e7ab8df348>,\n",
       " 'percent': <gensim.models.keyedvectors.Vocab at 0x1e7ab8dfac8>,\n",
       " 'growth': <gensim.models.keyedvectors.Vocab at 0x1e7ab8dfc08>,\n",
       " 'rate': <gensim.models.keyedvectors.Vocab at 0x1e7ab8df248>,\n",
       " 'areas': <gensim.models.keyedvectors.Vocab at 0x1e7ab8dfb48>,\n",
       " 'poverty': <gensim.models.keyedvectors.Vocab at 0x1e7ab8dff08>,\n",
       " 'levels': <gensim.models.keyedvectors.Vocab at 0x1e7ab98b688>,\n",
       " 'falling': <gensim.models.keyedvectors.Vocab at 0x1e7ab98bfc8>,\n",
       " 'achievements': <gensim.models.keyedvectors.Vocab at 0x1e7ab98bec8>,\n",
       " 'globally': <gensim.models.keyedvectors.Vocab at 0x1e7ab98bd48>,\n",
       " 'recognised': <gensim.models.keyedvectors.Vocab at 0x1e7ab98b788>,\n",
       " 'today': <gensim.models.keyedvectors.Vocab at 0x1e7ab98bf08>,\n",
       " 'lack': <gensim.models.keyedvectors.Vocab at 0x1e7ab98ba08>,\n",
       " 'self-confidence': <gensim.models.keyedvectors.Vocab at 0x1e7ab98bac8>,\n",
       " 'self-reliant': <gensim.models.keyedvectors.Vocab at 0x1e7ab98be48>,\n",
       " 'self-assured': <gensim.models.keyedvectors.Vocab at 0x1e7ab98b148>,\n",
       " 'incorrect': <gensim.models.keyedvectors.Vocab at 0x1e7ab98b9c8>,\n",
       " 'third': <gensim.models.keyedvectors.Vocab at 0x1e7ab98b948>,\n",
       " 'stand': <gensim.models.keyedvectors.Vocab at 0x1e7ab98b848>,\n",
       " 'unless': <gensim.models.keyedvectors.Vocab at 0x1e7ab97a1c8>,\n",
       " 'stands': <gensim.models.keyedvectors.Vocab at 0x1e7ab97a348>,\n",
       " 'strength': <gensim.models.keyedvectors.Vocab at 0x1e7ab97a688>,\n",
       " 'respects': <gensim.models.keyedvectors.Vocab at 0x1e7ab97ab08>,\n",
       " 'strong': <gensim.models.keyedvectors.Vocab at 0x1e7ab97a188>,\n",
       " 'military': <gensim.models.keyedvectors.Vocab at 0x1e7ab97a9c8>,\n",
       " 'power': <gensim.models.keyedvectors.Vocab at 0x1e7ab97ae48>,\n",
       " 'also': <gensim.models.keyedvectors.Vocab at 0x1e7ab97af48>,\n",
       " 'economic': <gensim.models.keyedvectors.Vocab at 0x1e7ab97a788>,\n",
       " 'go': <gensim.models.keyedvectors.Vocab at 0x1e7ab97ac88>,\n",
       " 'hand-in-hand': <gensim.models.keyedvectors.Vocab at 0x1e7ab97a448>,\n",
       " 'good': <gensim.models.keyedvectors.Vocab at 0x1e7a8785dc8>,\n",
       " 'fortune': <gensim.models.keyedvectors.Vocab at 0x1e7a8785d88>,\n",
       " 'worked': <gensim.models.keyedvectors.Vocab at 0x1e7ab977dc8>,\n",
       " 'great': <gensim.models.keyedvectors.Vocab at 0x1e7ab977448>,\n",
       " 'dr.': <gensim.models.keyedvectors.Vocab at 0x1e7ab977648>,\n",
       " 'vikram': <gensim.models.keyedvectors.Vocab at 0x1e7ab9772c8>,\n",
       " 'sarabhai': <gensim.models.keyedvectors.Vocab at 0x1e7ab977b48>,\n",
       " 'dept': <gensim.models.keyedvectors.Vocab at 0x1e7ab977908>,\n",
       " 'space': <gensim.models.keyedvectors.Vocab at 0x1e7ab9771c8>,\n",
       " 'professor': <gensim.models.keyedvectors.Vocab at 0x1e7ab977188>,\n",
       " 'satish': <gensim.models.keyedvectors.Vocab at 0x1e7ab977b08>,\n",
       " 'dhawan': <gensim.models.keyedvectors.Vocab at 0x1e7ab977988>,\n",
       " 'succeeded': <gensim.models.keyedvectors.Vocab at 0x1e7ab96ecc8>,\n",
       " 'brahm': <gensim.models.keyedvectors.Vocab at 0x1e7ab96ed08>,\n",
       " 'prakash': <gensim.models.keyedvectors.Vocab at 0x1e7ab8d3c88>,\n",
       " 'father': <gensim.models.keyedvectors.Vocab at 0x1e7ab8d3448>,\n",
       " 'nuclear': <gensim.models.keyedvectors.Vocab at 0x1e7ab99bf48>,\n",
       " 'material': <gensim.models.keyedvectors.Vocab at 0x1e7ab99b088>,\n",
       " 'lucky': <gensim.models.keyedvectors.Vocab at 0x1e7ab99bd08>,\n",
       " 'closely': <gensim.models.keyedvectors.Vocab at 0x1e7ab99b848>,\n",
       " 'consider': <gensim.models.keyedvectors.Vocab at 0x1e7ab99bb08>,\n",
       " 'opportunity': <gensim.models.keyedvectors.Vocab at 0x1e7ab99b348>,\n",
       " 'four': <gensim.models.keyedvectors.Vocab at 0x1e7ab99bdc8>,\n",
       " 'milestones': <gensim.models.keyedvectors.Vocab at 0x1e7ab99bac8>,\n",
       " 'career': <gensim.models.keyedvectors.Vocab at 0x1e7ab99b148>}"
      ]
     },
     "execution_count": 18,
     "metadata": {},
     "output_type": "execute_result"
    }
   ],
   "source": [
    "words"
   ]
  },
  {
   "cell_type": "code",
   "execution_count": 23,
   "id": "immediate-antigua",
   "metadata": {},
   "outputs": [],
   "source": [
    "# Finding Word Vectors\n",
    "vector = model.wv['us']"
   ]
  },
  {
   "cell_type": "code",
   "execution_count": 24,
   "id": "sealed-columbia",
   "metadata": {},
   "outputs": [
    {
     "data": {
      "text/plain": [
       "array([ 2.4910211e-03, -4.1080890e-03, -2.4689213e-04, -4.5139105e-03,\n",
       "        1.8936284e-03, -5.6467118e-04,  2.7970091e-04,  5.8086112e-04,\n",
       "       -3.2863915e-03,  6.4332708e-04, -4.3761069e-03,  4.3589991e-04,\n",
       "       -1.8372659e-03, -2.2157365e-03, -1.9615404e-03,  6.4775307e-04,\n",
       "       -4.5461236e-03,  4.1572070e-03, -4.4036740e-03, -2.5804788e-03,\n",
       "        3.9565074e-03,  3.5865954e-03,  5.0248858e-03, -4.9074548e-03,\n",
       "        5.0586712e-04, -4.4771843e-03, -4.4929251e-04,  3.1650325e-03,\n",
       "        3.6252441e-04,  1.6060821e-03, -3.6042493e-05, -1.8944439e-03,\n",
       "       -8.6938388e-05,  3.6480383e-03,  3.9075944e-03, -5.3498568e-04,\n",
       "       -3.1580115e-03, -3.8194512e-03, -2.6081898e-03, -1.8947980e-03,\n",
       "       -3.1539118e-03,  6.0173613e-04, -3.7956238e-03, -3.0737438e-03,\n",
       "       -3.1973552e-03, -2.0686537e-03, -4.4197114e-03,  8.6364686e-04,\n",
       "        1.8292331e-03,  3.7369526e-03,  2.4062416e-03, -3.0454025e-03,\n",
       "        2.7530575e-03,  2.1535988e-04, -4.9742372e-05, -4.2532152e-03,\n",
       "        3.1171320e-03,  2.8209535e-03, -2.7652907e-03,  6.2332244e-04,\n",
       "       -2.9178911e-03, -2.0329903e-03, -4.3764990e-03,  1.6443749e-04,\n",
       "       -4.4024529e-04, -1.9261999e-03,  2.8722771e-03,  2.0395410e-03,\n",
       "        8.8502502e-04, -1.6359948e-04, -2.2566826e-03, -2.8549402e-03,\n",
       "        7.6155254e-04,  4.6209283e-03, -3.5114181e-03,  3.8099606e-03,\n",
       "        1.4566882e-03, -2.6004211e-04,  3.3766609e-03, -6.7702367e-04,\n",
       "       -1.2571674e-03,  1.9854023e-03, -2.7731690e-04, -1.7445225e-03,\n",
       "        3.4099044e-03, -7.0623832e-04,  2.0435317e-03,  1.2138436e-03,\n",
       "       -2.9136729e-03, -3.4118211e-03, -1.2676162e-03, -4.3609282e-03,\n",
       "       -3.8901488e-03,  4.5213094e-03, -1.7164409e-03,  2.1923077e-03,\n",
       "       -1.9170075e-03,  1.1458426e-04, -4.8702392e-03,  4.6510929e-03],\n",
       "      dtype=float32)"
      ]
     },
     "execution_count": 24,
     "metadata": {},
     "output_type": "execute_result"
    }
   ],
   "source": [
    "vector"
   ]
  },
  {
   "cell_type": "code",
   "execution_count": 25,
   "id": "imposed-pointer",
   "metadata": {},
   "outputs": [
    {
     "data": {
      "text/plain": [
       "100"
      ]
     },
     "execution_count": 25,
     "metadata": {},
     "output_type": "execute_result"
    }
   ],
   "source": [
    "len(vector)"
   ]
  },
  {
   "cell_type": "code",
   "execution_count": 26,
   "id": "matched-complement",
   "metadata": {},
   "outputs": [],
   "source": [
    "# Most similar words\n",
    "similar = model.wv.most_similar('india')"
   ]
  },
  {
   "cell_type": "code",
   "execution_count": 27,
   "id": "governing-enforcement",
   "metadata": {},
   "outputs": [
    {
     "data": {
      "text/plain": [
       "[('good', 0.23323997855186462),\n",
       " ('stand', 0.20722445845603943),\n",
       " ('turks', 0.19531473517417908),\n",
       " ('took', 0.18707062304019928),\n",
       " ('alexander', 0.16409489512443542),\n",
       " ('vikram', 0.1518026888370514),\n",
       " ('nurture', 0.14988335967063904),\n",
       " ('development', 0.14747150242328644),\n",
       " ('anyone', 0.141156405210495),\n",
       " ('greeks', 0.13776054978370667)]"
      ]
     },
     "execution_count": 27,
     "metadata": {},
     "output_type": "execute_result"
    }
   ],
   "source": [
    "similar"
   ]
  },
  {
   "cell_type": "code",
   "execution_count": null,
   "id": "tested-brother",
   "metadata": {},
   "outputs": [],
   "source": []
  }
 ],
 "metadata": {
  "kernelspec": {
   "display_name": "Python 3",
   "language": "python",
   "name": "python3"
  },
  "language_info": {
   "codemirror_mode": {
    "name": "ipython",
    "version": 3
   },
   "file_extension": ".py",
   "mimetype": "text/x-python",
   "name": "python",
   "nbconvert_exporter": "python",
   "pygments_lexer": "ipython3",
   "version": "3.7.6"
  }
 },
 "nbformat": 4,
 "nbformat_minor": 5
}
